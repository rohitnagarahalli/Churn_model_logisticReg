{
 "cells": [
  {
   "cell_type": "markdown",
   "metadata": {
    "id": "eXyFUlrBje1W"
   },
   "source": [
    "### Importing and Merging Data\n",
    "<p style='text-align: right;'> 4 points</p>\n"
   ]
  },
  {
   "cell_type": "code",
   "execution_count": 1,
   "metadata": {
    "id": "PhXBBsr8je1X"
   },
   "outputs": [],
   "source": [
    "# Importing Pandas and NumPy\n",
    "import pandas as pd\n",
    "import numpy as np\n"
   ]
  },
  {
   "cell_type": "code",
   "execution_count": 2,
   "metadata": {
    "id": "UaAiw8tmje1Y"
   },
   "outputs": [],
   "source": [
    "# Importing all datasets\n",
    "churn_data = pd.read_csv('churn_data-1.csv')\n",
    "customer_data =pd.read_csv('customer_data-1.csv')\n",
    "internet_data = pd.read_csv('internet_data-1.csv')"
   ]
  },
  {
   "cell_type": "code",
   "execution_count": 3,
   "metadata": {
    "id": "HSL2dBAuje1Z"
   },
   "outputs": [],
   "source": [
    "#Merging churn_data and customer_data on 'customerID' using inner join on customerID\n",
    "df_1 = pd.merge(churn_data, customer_data, how = 'inner', on = 'customerID')"
   ]
  },
  {
   "cell_type": "code",
   "execution_count": 4,
   "metadata": {
    "id": "1C4MhNoDje1a"
   },
   "outputs": [],
   "source": [
    "#Final dataframe with all predictor variables (merging df_1 and internet_data on 'customerID')\n",
    "telecom = pd.merge(df_1, internet_data, how = 'inner', on = 'customerID')"
   ]
  },
  {
   "cell_type": "markdown",
   "metadata": {
    "id": "1WhgPK5oje1a"
   },
   "source": [
    "### Let's understand the structure of our dataframe\n",
    "<p style='text-align: right;'> 3 points</p>\n"
   ]
  },
  {
   "cell_type": "code",
   "execution_count": 5,
   "metadata": {
    "id": "v0jYf3ALje1b",
    "outputId": "4a48eb68-5501-4e77-e3ba-e767ed9f9234"
   },
   "outputs": [
    {
     "data": {
      "text/html": [
       "<div>\n",
       "<style scoped>\n",
       "    .dataframe tbody tr th:only-of-type {\n",
       "        vertical-align: middle;\n",
       "    }\n",
       "\n",
       "    .dataframe tbody tr th {\n",
       "        vertical-align: top;\n",
       "    }\n",
       "\n",
       "    .dataframe thead th {\n",
       "        text-align: right;\n",
       "    }\n",
       "</style>\n",
       "<table border=\"1\" class=\"dataframe\">\n",
       "  <thead>\n",
       "    <tr style=\"text-align: right;\">\n",
       "      <th></th>\n",
       "      <th>customerID</th>\n",
       "      <th>tenure</th>\n",
       "      <th>PhoneService</th>\n",
       "      <th>Contract</th>\n",
       "      <th>PaperlessBilling</th>\n",
       "      <th>PaymentMethod</th>\n",
       "      <th>MonthlyCharges</th>\n",
       "      <th>TotalCharges</th>\n",
       "      <th>Churn</th>\n",
       "      <th>gender</th>\n",
       "      <th>...</th>\n",
       "      <th>Partner</th>\n",
       "      <th>Dependents</th>\n",
       "      <th>MultipleLines</th>\n",
       "      <th>InternetService</th>\n",
       "      <th>OnlineSecurity</th>\n",
       "      <th>OnlineBackup</th>\n",
       "      <th>DeviceProtection</th>\n",
       "      <th>TechSupport</th>\n",
       "      <th>StreamingTV</th>\n",
       "      <th>StreamingMovies</th>\n",
       "    </tr>\n",
       "  </thead>\n",
       "  <tbody>\n",
       "    <tr>\n",
       "      <th>0</th>\n",
       "      <td>7590-VHVEG</td>\n",
       "      <td>1</td>\n",
       "      <td>No</td>\n",
       "      <td>Month-to-month</td>\n",
       "      <td>Yes</td>\n",
       "      <td>Electronic check</td>\n",
       "      <td>29.85</td>\n",
       "      <td>29.85</td>\n",
       "      <td>No</td>\n",
       "      <td>Female</td>\n",
       "      <td>...</td>\n",
       "      <td>Yes</td>\n",
       "      <td>No</td>\n",
       "      <td>No phone service</td>\n",
       "      <td>DSL</td>\n",
       "      <td>No</td>\n",
       "      <td>Yes</td>\n",
       "      <td>No</td>\n",
       "      <td>No</td>\n",
       "      <td>No</td>\n",
       "      <td>No</td>\n",
       "    </tr>\n",
       "    <tr>\n",
       "      <th>1</th>\n",
       "      <td>5575-GNVDE</td>\n",
       "      <td>34</td>\n",
       "      <td>Yes</td>\n",
       "      <td>One year</td>\n",
       "      <td>No</td>\n",
       "      <td>Mailed check</td>\n",
       "      <td>56.95</td>\n",
       "      <td>1889.5</td>\n",
       "      <td>No</td>\n",
       "      <td>Male</td>\n",
       "      <td>...</td>\n",
       "      <td>No</td>\n",
       "      <td>No</td>\n",
       "      <td>No</td>\n",
       "      <td>DSL</td>\n",
       "      <td>Yes</td>\n",
       "      <td>No</td>\n",
       "      <td>Yes</td>\n",
       "      <td>No</td>\n",
       "      <td>No</td>\n",
       "      <td>No</td>\n",
       "    </tr>\n",
       "    <tr>\n",
       "      <th>2</th>\n",
       "      <td>3668-QPYBK</td>\n",
       "      <td>2</td>\n",
       "      <td>Yes</td>\n",
       "      <td>Month-to-month</td>\n",
       "      <td>Yes</td>\n",
       "      <td>Mailed check</td>\n",
       "      <td>53.85</td>\n",
       "      <td>108.15</td>\n",
       "      <td>Yes</td>\n",
       "      <td>Male</td>\n",
       "      <td>...</td>\n",
       "      <td>No</td>\n",
       "      <td>No</td>\n",
       "      <td>No</td>\n",
       "      <td>DSL</td>\n",
       "      <td>Yes</td>\n",
       "      <td>Yes</td>\n",
       "      <td>No</td>\n",
       "      <td>No</td>\n",
       "      <td>No</td>\n",
       "      <td>No</td>\n",
       "    </tr>\n",
       "    <tr>\n",
       "      <th>3</th>\n",
       "      <td>7795-CFOCW</td>\n",
       "      <td>45</td>\n",
       "      <td>No</td>\n",
       "      <td>One year</td>\n",
       "      <td>No</td>\n",
       "      <td>Bank transfer (automatic)</td>\n",
       "      <td>42.30</td>\n",
       "      <td>1840.75</td>\n",
       "      <td>No</td>\n",
       "      <td>Male</td>\n",
       "      <td>...</td>\n",
       "      <td>No</td>\n",
       "      <td>No</td>\n",
       "      <td>No phone service</td>\n",
       "      <td>DSL</td>\n",
       "      <td>Yes</td>\n",
       "      <td>No</td>\n",
       "      <td>Yes</td>\n",
       "      <td>Yes</td>\n",
       "      <td>No</td>\n",
       "      <td>No</td>\n",
       "    </tr>\n",
       "    <tr>\n",
       "      <th>4</th>\n",
       "      <td>9237-HQITU</td>\n",
       "      <td>2</td>\n",
       "      <td>Yes</td>\n",
       "      <td>Month-to-month</td>\n",
       "      <td>Yes</td>\n",
       "      <td>Electronic check</td>\n",
       "      <td>70.70</td>\n",
       "      <td>151.65</td>\n",
       "      <td>Yes</td>\n",
       "      <td>Female</td>\n",
       "      <td>...</td>\n",
       "      <td>No</td>\n",
       "      <td>No</td>\n",
       "      <td>No</td>\n",
       "      <td>Fiber optic</td>\n",
       "      <td>No</td>\n",
       "      <td>No</td>\n",
       "      <td>No</td>\n",
       "      <td>No</td>\n",
       "      <td>No</td>\n",
       "      <td>No</td>\n",
       "    </tr>\n",
       "  </tbody>\n",
       "</table>\n",
       "<p>5 rows × 21 columns</p>\n",
       "</div>"
      ],
      "text/plain": [
       "   customerID  tenure PhoneService        Contract PaperlessBilling  \\\n",
       "0  7590-VHVEG       1           No  Month-to-month              Yes   \n",
       "1  5575-GNVDE      34          Yes        One year               No   \n",
       "2  3668-QPYBK       2          Yes  Month-to-month              Yes   \n",
       "3  7795-CFOCW      45           No        One year               No   \n",
       "4  9237-HQITU       2          Yes  Month-to-month              Yes   \n",
       "\n",
       "               PaymentMethod  MonthlyCharges TotalCharges Churn  gender  ...  \\\n",
       "0           Electronic check           29.85        29.85    No  Female  ...   \n",
       "1               Mailed check           56.95       1889.5    No    Male  ...   \n",
       "2               Mailed check           53.85       108.15   Yes    Male  ...   \n",
       "3  Bank transfer (automatic)           42.30      1840.75    No    Male  ...   \n",
       "4           Electronic check           70.70       151.65   Yes  Female  ...   \n",
       "\n",
       "   Partner Dependents     MultipleLines InternetService OnlineSecurity  \\\n",
       "0      Yes         No  No phone service             DSL             No   \n",
       "1       No         No                No             DSL            Yes   \n",
       "2       No         No                No             DSL            Yes   \n",
       "3       No         No  No phone service             DSL            Yes   \n",
       "4       No         No                No     Fiber optic             No   \n",
       "\n",
       "  OnlineBackup DeviceProtection TechSupport StreamingTV StreamingMovies  \n",
       "0          Yes               No          No          No              No  \n",
       "1           No              Yes          No          No              No  \n",
       "2          Yes               No          No          No              No  \n",
       "3           No              Yes         Yes          No              No  \n",
       "4           No               No          No          No              No  \n",
       "\n",
       "[5 rows x 21 columns]"
      ]
     },
     "execution_count": 5,
     "metadata": {},
     "output_type": "execute_result"
    }
   ],
   "source": [
    "# Let's see the head of our master dataset\n",
    "telecom.head()"
   ]
  },
  {
   "cell_type": "code",
   "execution_count": 6,
   "metadata": {
    "id": "-_RZwep9je1d",
    "outputId": "1df39eb8-b17b-4cc9-d6e0-4b1ebccd2a86"
   },
   "outputs": [
    {
     "data": {
      "text/html": [
       "<div>\n",
       "<style scoped>\n",
       "    .dataframe tbody tr th:only-of-type {\n",
       "        vertical-align: middle;\n",
       "    }\n",
       "\n",
       "    .dataframe tbody tr th {\n",
       "        vertical-align: top;\n",
       "    }\n",
       "\n",
       "    .dataframe thead th {\n",
       "        text-align: right;\n",
       "    }\n",
       "</style>\n",
       "<table border=\"1\" class=\"dataframe\">\n",
       "  <thead>\n",
       "    <tr style=\"text-align: right;\">\n",
       "      <th></th>\n",
       "      <th>tenure</th>\n",
       "      <th>MonthlyCharges</th>\n",
       "      <th>SeniorCitizen</th>\n",
       "    </tr>\n",
       "  </thead>\n",
       "  <tbody>\n",
       "    <tr>\n",
       "      <th>count</th>\n",
       "      <td>7043.000000</td>\n",
       "      <td>7043.000000</td>\n",
       "      <td>7043.000000</td>\n",
       "    </tr>\n",
       "    <tr>\n",
       "      <th>mean</th>\n",
       "      <td>32.371149</td>\n",
       "      <td>64.761692</td>\n",
       "      <td>0.162147</td>\n",
       "    </tr>\n",
       "    <tr>\n",
       "      <th>std</th>\n",
       "      <td>24.559481</td>\n",
       "      <td>30.090047</td>\n",
       "      <td>0.368612</td>\n",
       "    </tr>\n",
       "    <tr>\n",
       "      <th>min</th>\n",
       "      <td>0.000000</td>\n",
       "      <td>18.250000</td>\n",
       "      <td>0.000000</td>\n",
       "    </tr>\n",
       "    <tr>\n",
       "      <th>25%</th>\n",
       "      <td>9.000000</td>\n",
       "      <td>35.500000</td>\n",
       "      <td>0.000000</td>\n",
       "    </tr>\n",
       "    <tr>\n",
       "      <th>50%</th>\n",
       "      <td>29.000000</td>\n",
       "      <td>70.350000</td>\n",
       "      <td>0.000000</td>\n",
       "    </tr>\n",
       "    <tr>\n",
       "      <th>75%</th>\n",
       "      <td>55.000000</td>\n",
       "      <td>89.850000</td>\n",
       "      <td>0.000000</td>\n",
       "    </tr>\n",
       "    <tr>\n",
       "      <th>max</th>\n",
       "      <td>72.000000</td>\n",
       "      <td>118.750000</td>\n",
       "      <td>1.000000</td>\n",
       "    </tr>\n",
       "  </tbody>\n",
       "</table>\n",
       "</div>"
      ],
      "text/plain": [
       "            tenure  MonthlyCharges  SeniorCitizen\n",
       "count  7043.000000     7043.000000    7043.000000\n",
       "mean     32.371149       64.761692       0.162147\n",
       "std      24.559481       30.090047       0.368612\n",
       "min       0.000000       18.250000       0.000000\n",
       "25%       9.000000       35.500000       0.000000\n",
       "50%      29.000000       70.350000       0.000000\n",
       "75%      55.000000       89.850000       0.000000\n",
       "max      72.000000      118.750000       1.000000"
      ]
     },
     "execution_count": 6,
     "metadata": {},
     "output_type": "execute_result"
    }
   ],
   "source": [
    "#Lets see statistical description for our master data\n",
    "telecom.describe()"
   ]
  },
  {
   "cell_type": "code",
   "execution_count": 7,
   "metadata": {
    "id": "oCX9GVw-je1f",
    "outputId": "d4540d5e-c1d8-41b0-e70b-872d4ada93c9"
   },
   "outputs": [
    {
     "name": "stdout",
     "output_type": "stream",
     "text": [
      "<class 'pandas.core.frame.DataFrame'>\n",
      "Int64Index: 7043 entries, 0 to 7042\n",
      "Data columns (total 21 columns):\n",
      " #   Column            Non-Null Count  Dtype  \n",
      "---  ------            --------------  -----  \n",
      " 0   customerID        7043 non-null   object \n",
      " 1   tenure            7043 non-null   int64  \n",
      " 2   PhoneService      7043 non-null   object \n",
      " 3   Contract          7043 non-null   object \n",
      " 4   PaperlessBilling  7043 non-null   object \n",
      " 5   PaymentMethod     7043 non-null   object \n",
      " 6   MonthlyCharges    7043 non-null   float64\n",
      " 7   TotalCharges      7043 non-null   object \n",
      " 8   Churn             7043 non-null   object \n",
      " 9   gender            7043 non-null   object \n",
      " 10  SeniorCitizen     7043 non-null   int64  \n",
      " 11  Partner           7043 non-null   object \n",
      " 12  Dependents        7043 non-null   object \n",
      " 13  MultipleLines     7043 non-null   object \n",
      " 14  InternetService   7043 non-null   object \n",
      " 15  OnlineSecurity    7043 non-null   object \n",
      " 16  OnlineBackup      7043 non-null   object \n",
      " 17  DeviceProtection  7043 non-null   object \n",
      " 18  TechSupport       7043 non-null   object \n",
      " 19  StreamingTV       7043 non-null   object \n",
      " 20  StreamingMovies   7043 non-null   object \n",
      "dtypes: float64(1), int64(2), object(18)\n",
      "memory usage: 1.2+ MB\n"
     ]
    }
   ],
   "source": [
    "# Let's see the type of each column\n",
    "telecom.info()"
   ]
  },
  {
   "cell_type": "markdown",
   "metadata": {
    "id": "s_LP8glXje1g"
   },
   "source": [
    "## Data Preparation\n",
    "<p style='text-align: right;'> 10 points</p>\n"
   ]
  },
  {
   "cell_type": "code",
   "execution_count": 8,
   "metadata": {
    "id": "58pCLhaPje1g"
   },
   "outputs": [],
   "source": [
    "# Converting Yes to 1 and No to 0 using map\n",
    "mapped = {'Yes' : 1, 'No' : 0}\n",
    "\n",
    "telecom['PhoneService'] = telecom['PhoneService'].map(mapped)\n",
    "telecom['PaperlessBilling'] = telecom['PaperlessBilling'].map(mapped)\n",
    "telecom['Churn'] =telecom['Churn'].map(mapped)  \n",
    "telecom['Partner'] = telecom['Partner'].map(mapped)\n",
    "telecom['Dependents'] = telecom['Dependents'].map(mapped)"
   ]
  },
  {
   "cell_type": "markdown",
   "metadata": {
    "id": "ASRHOw-Xje1h"
   },
   "source": [
    "### Dummy Variable Creation\n",
    "\n"
   ]
  },
  {
   "cell_type": "code",
   "execution_count": 9,
   "metadata": {
    "id": "_aglQU6Yje1h"
   },
   "outputs": [
    {
     "name": "stderr",
     "output_type": "stream",
     "text": [
      "C:\\Users\\Admin\\AppData\\Local\\Temp/ipykernel_12944/2270008906.py:31: FutureWarning: In a future version of pandas all arguments of DataFrame.drop except for the argument 'labels' will be keyword-only\n",
      "  os1= os.drop(['OnlineSecurity_No internet service'], 1)\n",
      "C:\\Users\\Admin\\AppData\\Local\\Temp/ipykernel_12944/2270008906.py:38: FutureWarning: In a future version of pandas all arguments of DataFrame.drop except for the argument 'labels' will be keyword-only\n",
      "  ob1 = ob.drop(['OnlineBackup_No internet service'], 1)\n",
      "C:\\Users\\Admin\\AppData\\Local\\Temp/ipykernel_12944/2270008906.py:45: FutureWarning: In a future version of pandas all arguments of DataFrame.drop except for the argument 'labels' will be keyword-only\n",
      "  dp1 = dp.drop(['DeviceProtection_No internet service'], 1)\n",
      "C:\\Users\\Admin\\AppData\\Local\\Temp/ipykernel_12944/2270008906.py:52: FutureWarning: In a future version of pandas all arguments of DataFrame.drop except for the argument 'labels' will be keyword-only\n",
      "  ts1 = ts.drop(['TechSupport_No internet service'], 1)\n",
      "C:\\Users\\Admin\\AppData\\Local\\Temp/ipykernel_12944/2270008906.py:59: FutureWarning: In a future version of pandas all arguments of DataFrame.drop except for the argument 'labels' will be keyword-only\n",
      "  st1 = st.drop(['StreamingTV_No internet service'], 1)\n",
      "C:\\Users\\Admin\\AppData\\Local\\Temp/ipykernel_12944/2270008906.py:66: FutureWarning: In a future version of pandas all arguments of DataFrame.drop except for the argument 'labels' will be keyword-only\n",
      "  sm1 = sm.drop(['StreamingMovies_No internet service'], 1)\n"
     ]
    }
   ],
   "source": [
    "# Creating a dummy variable for the variable 'Contract' and keeping drop_first=True\n",
    "cont = pd.get_dummies(telecom['Contract'], prefix='Contract', drop_first=True) \n",
    "#Adding the results to the master dataframe i.e telecom\n",
    "telecom = pd.concat([telecom, cont], axis=1)\n",
    "\n",
    "# Creating a dummy variable for the variable 'PaymentMethod' and keeping drop_first=True\n",
    "pm = pd.get_dummies(telecom['PaymentMethod'], prefix= 'PaymentMethod', drop_first=True) \n",
    "#Adding the results to the master dataframe\n",
    "telecom = pd.concat([telecom, pm], axis=1)\n",
    "\n",
    "# Creating a dummy variable for the variable 'gender' and keeping drop_first=True\n",
    "gen = pd.get_dummies(telecom['gender'], prefix= 'gender', drop_first=True)\n",
    "#Adding the results to the master dataframe\n",
    "telecom = pd.concat([telecom, gen], axis=1)\n",
    "\n",
    "# Creating a dummy variable for the variable 'MultipleLines' and keeping drop_first=True\n",
    "ml = pd.get_dummies(telecom['MultipleLines'], prefix= 'MultipleLines', drop_first=True)\n",
    "#  dropping MultipleLines_No phone service column from ml\n",
    "ml1 = ml.drop(['MultipleLines_No phone service'], axis=1)\n",
    "#Adding the results to the master dataframe\n",
    "telecom = pd.concat([telecom, ml1], axis=1)\n",
    "\n",
    "# Creating a dummy variable for the variable 'InternetService' and keeping drop_first=True\n",
    "iser = pd.get_dummies(telecom['InternetService'], prefix= 'InternetService', drop_first=True)\n",
    "#Adding the results to the master dataframe\n",
    "telecom = pd.concat([telecom, iser], axis=1)\n",
    "\n",
    "# Creating a dummy variable for the variable 'OnlineSecurity'.\n",
    "os = pd.get_dummies(telecom['OnlineSecurity'], prefix= 'OnlineSecurity', drop_first=True)\n",
    "#drop OnlineSecurity_No internet service column from os\n",
    "os1= os.drop(['OnlineSecurity_No internet service'], 1)\n",
    "#Adding os1 to the master dataframe\n",
    "telecom = pd.concat([telecom, os1], axis=1)\n",
    "\n",
    "# Creating a dummy variable for the variable 'OnlineBackup' and keeping drop_first=True\n",
    "ob =pd.get_dummies(telecom['OnlineBackup'], prefix= 'OnlineBackup', drop_first=True)\n",
    "#dropping OnlineBackup_No internet service from ob\n",
    "ob1 = ob.drop(['OnlineBackup_No internet service'], 1)\n",
    "#Adding the results(ob1) to the master dataframe\n",
    "telecom =  pd.concat([telecom, ob1], axis=1 )\n",
    "\n",
    "# Creating a dummy variable for the variable 'DeviceProtection' and keeping drop_first=True\n",
    "dp =pd.get_dummies(telecom['DeviceProtection'], prefix= 'DeviceProtection', drop_first=True)\n",
    "#dropping DeviceProtection_No internet service from dp\n",
    "dp1 = dp.drop(['DeviceProtection_No internet service'], 1)\n",
    "#Adding the results(dp1) to the master dataframe\n",
    "telecom = pd.concat([telecom, dp1], axis=1)\n",
    "\n",
    "# Creating a dummy variable for the variable 'TechSupport' and keeping drop_first=True\n",
    "ts = pd.get_dummies(telecom['TechSupport'], prefix= 'TechSupport', drop_first=True)\n",
    "#dropping TechSupport_No internet service from ts\n",
    "ts1 = ts.drop(['TechSupport_No internet service'], 1)\n",
    "#Adding the results(ts1) to the master dataframe\n",
    "telecom = pd.concat([telecom, ts1], axis=1)\n",
    "\n",
    "# Creating a dummy variable for the variable 'StreamingTV' and keeping drop_first=True\n",
    "st = pd.get_dummies(telecom['StreamingTV'], prefix= 'StreamingTV', drop_first=True)\n",
    "#dropping StreamingTV_No internet service from st\n",
    "st1 = st.drop(['StreamingTV_No internet service'], 1)\n",
    "#Adding the results(st1) to the master dataframe\n",
    "telecom = pd.concat([telecom, st1], axis=1)\n",
    "\n",
    "# Creating a dummy variable for the variable 'StreamingMovies' and keeping drop_first=True \n",
    "sm = pd.get_dummies(telecom['StreamingMovies'], prefix= 'StreamingMovies', drop_first=True)\n",
    "#dropping StreamingMovies_No internet service from sm\n",
    "sm1 = sm.drop(['StreamingMovies_No internet service'], 1)\n",
    "#Adding the results(sm1) to the master dataframe\n",
    "telecom = pd.concat([telecom, sm1], axis=1)"
   ]
  },
  {
   "cell_type": "markdown",
   "metadata": {
    "id": "qaRWiFHPje1k"
   },
   "source": [
    "### Dropping the repeated variables\n",
    "\n",
    "Since We have already created dummies for the below variables\n",
    "    \n",
    "    \n",
    "so we can drop them off as they are now repeated in our master dataset\n"
   ]
  },
  {
   "cell_type": "code",
   "execution_count": 10,
   "metadata": {
    "id": "En6k5f7eje1k"
   },
   "outputs": [],
   "source": [
    "# drop all duplicate columns\n",
    "telecom = telecom.drop(['Contract',\n",
    "'PaymentMethod',\n",
    "'gender',\n",
    "'MultipleLines',\n",
    "'InternetService', \n",
    "'OnlineSecurity', \n",
    "'OnlineBackup', \n",
    "'DeviceProtection',\n",
    "'TechSupport', \n",
    "'StreamingTV', \n",
    "'StreamingMovies'], axis=1)"
   ]
  },
  {
   "cell_type": "code",
   "execution_count": 11,
   "metadata": {},
   "outputs": [
    {
     "data": {
      "text/plain": [
       "0      29.85\n",
       "1     1889.5\n",
       "2     108.15\n",
       "3    1840.75\n",
       "4     151.65\n",
       "Name: TotalCharges, dtype: object"
      ]
     },
     "execution_count": 11,
     "metadata": {},
     "output_type": "execute_result"
    }
   ],
   "source": [
    "telecom.TotalCharges.head()"
   ]
  },
  {
   "cell_type": "code",
   "execution_count": 12,
   "metadata": {
    "id": "B6cWEH2qje1l"
   },
   "outputs": [],
   "source": [
    "\n",
    "# convert to numeric\n",
    "telecom['TotalCharges']= pd.to_numeric(telecom['TotalCharges'], errors='coerce')"
   ]
  },
  {
   "cell_type": "code",
   "execution_count": 13,
   "metadata": {
    "id": "Gm5gQKEnje1l",
    "outputId": "3998d7a0-d0b0-4727-88fe-e00e66e7dad2"
   },
   "outputs": [
    {
     "name": "stdout",
     "output_type": "stream",
     "text": [
      "<class 'pandas.core.frame.DataFrame'>\n",
      "Int64Index: 7043 entries, 0 to 7042\n",
      "Data columns (total 25 columns):\n",
      " #   Column                                 Non-Null Count  Dtype  \n",
      "---  ------                                 --------------  -----  \n",
      " 0   customerID                             7043 non-null   object \n",
      " 1   tenure                                 7043 non-null   int64  \n",
      " 2   PhoneService                           7043 non-null   int64  \n",
      " 3   PaperlessBilling                       7043 non-null   int64  \n",
      " 4   MonthlyCharges                         7043 non-null   float64\n",
      " 5   TotalCharges                           7032 non-null   float64\n",
      " 6   Churn                                  7043 non-null   int64  \n",
      " 7   SeniorCitizen                          7043 non-null   int64  \n",
      " 8   Partner                                7043 non-null   int64  \n",
      " 9   Dependents                             7043 non-null   int64  \n",
      " 10  Contract_One year                      7043 non-null   uint8  \n",
      " 11  Contract_Two year                      7043 non-null   uint8  \n",
      " 12  PaymentMethod_Credit card (automatic)  7043 non-null   uint8  \n",
      " 13  PaymentMethod_Electronic check         7043 non-null   uint8  \n",
      " 14  PaymentMethod_Mailed check             7043 non-null   uint8  \n",
      " 15  gender_Male                            7043 non-null   uint8  \n",
      " 16  MultipleLines_Yes                      7043 non-null   uint8  \n",
      " 17  InternetService_Fiber optic            7043 non-null   uint8  \n",
      " 18  InternetService_No                     7043 non-null   uint8  \n",
      " 19  OnlineSecurity_Yes                     7043 non-null   uint8  \n",
      " 20  OnlineBackup_Yes                       7043 non-null   uint8  \n",
      " 21  DeviceProtection_Yes                   7043 non-null   uint8  \n",
      " 22  TechSupport_Yes                        7043 non-null   uint8  \n",
      " 23  StreamingTV_Yes                        7043 non-null   uint8  \n",
      " 24  StreamingMovies_Yes                    7043 non-null   uint8  \n",
      "dtypes: float64(2), int64(7), object(1), uint8(15)\n",
      "memory usage: 708.4+ KB\n"
     ]
    }
   ],
   "source": [
    "# again check data type informationof our master dataset\n",
    "telecom.info()"
   ]
  },
  {
   "cell_type": "markdown",
   "metadata": {
    "id": "looUTnDmje1m"
   },
   "source": [
    "Now we can see we have all variables as integer."
   ]
  },
  {
   "cell_type": "markdown",
   "metadata": {
    "collapsed": true,
    "id": "kA_23gcmje1m"
   },
   "source": [
    "### Checking for Outliers\n",
    "<p style='text-align: right;'> 4 points</p>\n",
    "\n",
    "\n",
    "Checking for outliers in the continuous variables like 'tenure','MonthlyCharges','SeniorCitizen','TotalCharges'\n"
   ]
  },
  {
   "cell_type": "code",
   "execution_count": 14,
   "metadata": {
    "id": "0BtUK6X6je1m"
   },
   "outputs": [],
   "source": [
    "# Getting all continues variables in separate dataframe\n",
    "num_telecom = telecom[[ 'tenure','MonthlyCharges','SeniorCitizen','TotalCharges']]"
   ]
  },
  {
   "cell_type": "code",
   "execution_count": 15,
   "metadata": {
    "id": "NvPHvTlije1m",
    "outputId": "bff07e7f-6940-4138-efd3-9191493e46ac"
   },
   "outputs": [
    {
     "data": {
      "text/html": [
       "<div>\n",
       "<style scoped>\n",
       "    .dataframe tbody tr th:only-of-type {\n",
       "        vertical-align: middle;\n",
       "    }\n",
       "\n",
       "    .dataframe tbody tr th {\n",
       "        vertical-align: top;\n",
       "    }\n",
       "\n",
       "    .dataframe thead th {\n",
       "        text-align: right;\n",
       "    }\n",
       "</style>\n",
       "<table border=\"1\" class=\"dataframe\">\n",
       "  <thead>\n",
       "    <tr style=\"text-align: right;\">\n",
       "      <th></th>\n",
       "      <th>tenure</th>\n",
       "      <th>MonthlyCharges</th>\n",
       "      <th>SeniorCitizen</th>\n",
       "      <th>TotalCharges</th>\n",
       "    </tr>\n",
       "  </thead>\n",
       "  <tbody>\n",
       "    <tr>\n",
       "      <th>count</th>\n",
       "      <td>7043.000000</td>\n",
       "      <td>7043.000000</td>\n",
       "      <td>7043.000000</td>\n",
       "      <td>7032.000000</td>\n",
       "    </tr>\n",
       "    <tr>\n",
       "      <th>mean</th>\n",
       "      <td>32.371149</td>\n",
       "      <td>64.761692</td>\n",
       "      <td>0.162147</td>\n",
       "      <td>2283.300441</td>\n",
       "    </tr>\n",
       "    <tr>\n",
       "      <th>std</th>\n",
       "      <td>24.559481</td>\n",
       "      <td>30.090047</td>\n",
       "      <td>0.368612</td>\n",
       "      <td>2266.771362</td>\n",
       "    </tr>\n",
       "    <tr>\n",
       "      <th>min</th>\n",
       "      <td>0.000000</td>\n",
       "      <td>18.250000</td>\n",
       "      <td>0.000000</td>\n",
       "      <td>18.800000</td>\n",
       "    </tr>\n",
       "    <tr>\n",
       "      <th>25%</th>\n",
       "      <td>9.000000</td>\n",
       "      <td>35.500000</td>\n",
       "      <td>0.000000</td>\n",
       "      <td>401.450000</td>\n",
       "    </tr>\n",
       "    <tr>\n",
       "      <th>50%</th>\n",
       "      <td>29.000000</td>\n",
       "      <td>70.350000</td>\n",
       "      <td>0.000000</td>\n",
       "      <td>1397.475000</td>\n",
       "    </tr>\n",
       "    <tr>\n",
       "      <th>75%</th>\n",
       "      <td>55.000000</td>\n",
       "      <td>89.850000</td>\n",
       "      <td>0.000000</td>\n",
       "      <td>3794.737500</td>\n",
       "    </tr>\n",
       "    <tr>\n",
       "      <th>90%</th>\n",
       "      <td>69.000000</td>\n",
       "      <td>102.600000</td>\n",
       "      <td>1.000000</td>\n",
       "      <td>5976.640000</td>\n",
       "    </tr>\n",
       "    <tr>\n",
       "      <th>95%</th>\n",
       "      <td>72.000000</td>\n",
       "      <td>107.400000</td>\n",
       "      <td>1.000000</td>\n",
       "      <td>6923.590000</td>\n",
       "    </tr>\n",
       "    <tr>\n",
       "      <th>99%</th>\n",
       "      <td>72.000000</td>\n",
       "      <td>114.729000</td>\n",
       "      <td>1.000000</td>\n",
       "      <td>8039.883000</td>\n",
       "    </tr>\n",
       "    <tr>\n",
       "      <th>max</th>\n",
       "      <td>72.000000</td>\n",
       "      <td>118.750000</td>\n",
       "      <td>1.000000</td>\n",
       "      <td>8684.800000</td>\n",
       "    </tr>\n",
       "  </tbody>\n",
       "</table>\n",
       "</div>"
      ],
      "text/plain": [
       "            tenure  MonthlyCharges  SeniorCitizen  TotalCharges\n",
       "count  7043.000000     7043.000000    7043.000000   7032.000000\n",
       "mean     32.371149       64.761692       0.162147   2283.300441\n",
       "std      24.559481       30.090047       0.368612   2266.771362\n",
       "min       0.000000       18.250000       0.000000     18.800000\n",
       "25%       9.000000       35.500000       0.000000    401.450000\n",
       "50%      29.000000       70.350000       0.000000   1397.475000\n",
       "75%      55.000000       89.850000       0.000000   3794.737500\n",
       "90%      69.000000      102.600000       1.000000   5976.640000\n",
       "95%      72.000000      107.400000       1.000000   6923.590000\n",
       "99%      72.000000      114.729000       1.000000   8039.883000\n",
       "max      72.000000      118.750000       1.000000   8684.800000"
      ]
     },
     "execution_count": 15,
     "metadata": {},
     "output_type": "execute_result"
    }
   ],
   "source": [
    "# Checking outliers at 25%,50%,75%,90%,95% and 99%\n",
    "num_telecom.describe(percentiles = [.25, .50, .75, .90, .95, .99])"
   ]
  },
  {
   "cell_type": "markdown",
   "metadata": {
    "id": "a0Qv031dje1n"
   },
   "source": [
    "From the distribution shown above, you can see that there no outliner in your data as the numbers are gradually increasing."
   ]
  },
  {
   "cell_type": "markdown",
   "metadata": {
    "id": "vrACBi0Gje1n"
   },
   "source": [
    "### Checking for Missing Values and Inputing Them\n",
    "\n",
    "<p style='text-align: right;'> 5 points</p>\n"
   ]
  },
  {
   "cell_type": "code",
   "execution_count": 16,
   "metadata": {
    "id": "n13BJdrlje1n",
    "outputId": "283bcbb0-9d65-447d-d707-42028162ae7f"
   },
   "outputs": [
    {
     "data": {
      "text/plain": [
       "customerID                                0\n",
       "tenure                                    0\n",
       "PhoneService                              0\n",
       "PaperlessBilling                          0\n",
       "MonthlyCharges                            0\n",
       "TotalCharges                             11\n",
       "Churn                                     0\n",
       "SeniorCitizen                             0\n",
       "Partner                                   0\n",
       "Dependents                                0\n",
       "Contract_One year                         0\n",
       "Contract_Two year                         0\n",
       "PaymentMethod_Credit card (automatic)     0\n",
       "PaymentMethod_Electronic check            0\n",
       "PaymentMethod_Mailed check                0\n",
       "gender_Male                               0\n",
       "MultipleLines_Yes                         0\n",
       "InternetService_Fiber optic               0\n",
       "InternetService_No                        0\n",
       "OnlineSecurity_Yes                        0\n",
       "OnlineBackup_Yes                          0\n",
       "DeviceProtection_Yes                      0\n",
       "TechSupport_Yes                           0\n",
       "StreamingTV_Yes                           0\n",
       "StreamingMovies_Yes                       0\n",
       "dtype: int64"
      ]
     },
     "execution_count": 16,
     "metadata": {},
     "output_type": "execute_result"
    }
   ],
   "source": [
    "# Checking total missing values (column-wise)\n",
    "telecom.isnull().sum()"
   ]
  },
  {
   "cell_type": "code",
   "execution_count": 17,
   "metadata": {
    "id": "vU-ybWELje1n",
    "outputId": "cfd43df3-b5bb-4d4d-8b73-4aad030b77ba"
   },
   "outputs": [
    {
     "data": {
      "text/plain": [
       "customerID                               0.00\n",
       "tenure                                   0.00\n",
       "PhoneService                             0.00\n",
       "PaperlessBilling                         0.00\n",
       "MonthlyCharges                           0.00\n",
       "TotalCharges                             0.16\n",
       "Churn                                    0.00\n",
       "SeniorCitizen                            0.00\n",
       "Partner                                  0.00\n",
       "Dependents                               0.00\n",
       "Contract_One year                        0.00\n",
       "Contract_Two year                        0.00\n",
       "PaymentMethod_Credit card (automatic)    0.00\n",
       "PaymentMethod_Electronic check           0.00\n",
       "PaymentMethod_Mailed check               0.00\n",
       "gender_Male                              0.00\n",
       "MultipleLines_Yes                        0.00\n",
       "InternetService_Fiber optic              0.00\n",
       "InternetService_No                       0.00\n",
       "OnlineSecurity_Yes                       0.00\n",
       "OnlineBackup_Yes                         0.00\n",
       "DeviceProtection_Yes                     0.00\n",
       "TechSupport_Yes                          0.00\n",
       "StreamingTV_Yes                          0.00\n",
       "StreamingMovies_Yes                      0.00\n",
       "dtype: float64"
      ]
     },
     "execution_count": 17,
     "metadata": {},
     "output_type": "execute_result"
    }
   ],
   "source": [
    "# Checking the percentage of missing values\n",
    "round(100*(telecom.isnull().sum()/len(telecom.index)), 2)"
   ]
  },
  {
   "cell_type": "markdown",
   "metadata": {
    "id": "5Ed_-VSZje1o"
   },
   "source": [
    "It means that 11/7043 = 0.001561834 i.e 0.15%, the best option to get rid of these null values in this scenario is to remove these observations from the analysis"
   ]
  },
  {
   "cell_type": "code",
   "execution_count": 18,
   "metadata": {
    "id": "eZhP2ysQje1o"
   },
   "outputs": [],
   "source": [
    "# Removing NaN form TotalCharges rows\n",
    "telecom = telecom[~np.isnan(telecom['TotalCharges'])]"
   ]
  },
  {
   "cell_type": "code",
   "execution_count": 19,
   "metadata": {
    "id": "x3zMJSE0je1o",
    "outputId": "10f17bb6-5bde-4fa4-f6b7-28daefd4dfe4"
   },
   "outputs": [
    {
     "data": {
      "text/plain": [
       "customerID                               0.0\n",
       "tenure                                   0.0\n",
       "PhoneService                             0.0\n",
       "PaperlessBilling                         0.0\n",
       "MonthlyCharges                           0.0\n",
       "TotalCharges                             0.0\n",
       "Churn                                    0.0\n",
       "SeniorCitizen                            0.0\n",
       "Partner                                  0.0\n",
       "Dependents                               0.0\n",
       "Contract_One year                        0.0\n",
       "Contract_Two year                        0.0\n",
       "PaymentMethod_Credit card (automatic)    0.0\n",
       "PaymentMethod_Electronic check           0.0\n",
       "PaymentMethod_Mailed check               0.0\n",
       "gender_Male                              0.0\n",
       "MultipleLines_Yes                        0.0\n",
       "InternetService_Fiber optic              0.0\n",
       "InternetService_No                       0.0\n",
       "OnlineSecurity_Yes                       0.0\n",
       "OnlineBackup_Yes                         0.0\n",
       "DeviceProtection_Yes                     0.0\n",
       "TechSupport_Yes                          0.0\n",
       "StreamingTV_Yes                          0.0\n",
       "StreamingMovies_Yes                      0.0\n",
       "dtype: float64"
      ]
     },
     "execution_count": 19,
     "metadata": {},
     "output_type": "execute_result"
    }
   ],
   "source": [
    "# Lets Check percentage of missing values after removing the missing values\n",
    "round(100*(telecom.isnull().sum()/len(telecom.index)), 2)"
   ]
  },
  {
   "cell_type": "markdown",
   "metadata": {
    "id": "_UX1HjwMje1p"
   },
   "source": [
    "Now we don't have any missing values"
   ]
  },
  {
   "cell_type": "markdown",
   "metadata": {
    "id": "kF7CNTm0je1p"
   },
   "source": [
    "### Feature Standardisation\n",
    "\n",
    "<p style='text-align: right;'> 6 points</p>\n",
    "\n",
    "\n"
   ]
  },
  {
   "cell_type": "code",
   "execution_count": 20,
   "metadata": {
    "id": "_nc2CMd0je1q",
    "outputId": "de8b8395-26e6-4b69-f21a-e82e410aa01f"
   },
   "outputs": [
    {
     "name": "stdout",
     "output_type": "stream",
     "text": [
      "<class 'pandas.core.frame.DataFrame'>\n",
      "Int64Index: 7032 entries, 0 to 7042\n",
      "Data columns (total 25 columns):\n",
      " #   Column                                 Non-Null Count  Dtype  \n",
      "---  ------                                 --------------  -----  \n",
      " 0   customerID                             7032 non-null   object \n",
      " 1   tenure                                 7032 non-null   int64  \n",
      " 2   PhoneService                           7032 non-null   int64  \n",
      " 3   PaperlessBilling                       7032 non-null   int64  \n",
      " 4   MonthlyCharges                         7032 non-null   float64\n",
      " 5   TotalCharges                           7032 non-null   float64\n",
      " 6   Churn                                  7032 non-null   int64  \n",
      " 7   SeniorCitizen                          7032 non-null   int64  \n",
      " 8   Partner                                7032 non-null   int64  \n",
      " 9   Dependents                             7032 non-null   int64  \n",
      " 10  Contract_One year                      7032 non-null   uint8  \n",
      " 11  Contract_Two year                      7032 non-null   uint8  \n",
      " 12  PaymentMethod_Credit card (automatic)  7032 non-null   uint8  \n",
      " 13  PaymentMethod_Electronic check         7032 non-null   uint8  \n",
      " 14  PaymentMethod_Mailed check             7032 non-null   uint8  \n",
      " 15  gender_Male                            7032 non-null   uint8  \n",
      " 16  MultipleLines_Yes                      7032 non-null   uint8  \n",
      " 17  InternetService_Fiber optic            7032 non-null   uint8  \n",
      " 18  InternetService_No                     7032 non-null   uint8  \n",
      " 19  OnlineSecurity_Yes                     7032 non-null   uint8  \n",
      " 20  OnlineBackup_Yes                       7032 non-null   uint8  \n",
      " 21  DeviceProtection_Yes                   7032 non-null   uint8  \n",
      " 22  TechSupport_Yes                        7032 non-null   uint8  \n",
      " 23  StreamingTV_Yes                        7032 non-null   uint8  \n",
      " 24  StreamingMovies_Yes                    7032 non-null   uint8  \n",
      "dtypes: float64(2), int64(7), object(1), uint8(15)\n",
      "memory usage: 707.3+ KB\n"
     ]
    }
   ],
   "source": [
    "# Get telecom data type information\n",
    "telecom.info()"
   ]
  },
  {
   "cell_type": "code",
   "execution_count": 21,
   "metadata": {
    "id": "jj4I9il1je1q"
   },
   "outputs": [],
   "source": [
    "# Getting all desired continues variables like 'tenure','MonthlyCharges' and 'TotalCharges' into one dataframe.\n",
    "df = telecom[['tenure', 'MonthlyCharges', 'TotalCharges']]"
   ]
  },
  {
   "cell_type": "code",
   "execution_count": 22,
   "metadata": {
    "id": "yNYBGUrnje1r"
   },
   "outputs": [],
   "source": [
    "# Standardising above continuous features\n",
    "\n",
    "std_df = (df-df.mean())/df.std()  # formula for standardising"
   ]
  },
  {
   "cell_type": "code",
   "execution_count": 23,
   "metadata": {
    "id": "w8l19Jgwje1r"
   },
   "outputs": [],
   "source": [
    "# Dropping 'tenure','MonthlyCharges' and 'TotalCharges' from telecom as we want to add the standardised fetaures \n",
    "telecom = telecom.drop(['tenure', 'MonthlyCharges', 'TotalCharges'],axis = 1)"
   ]
  },
  {
   "cell_type": "code",
   "execution_count": 24,
   "metadata": {
    "id": "bl1dwQ8Cje1r"
   },
   "outputs": [],
   "source": [
    "# Add std_df into telecom\n",
    "telecom = pd.concat([telecom, std_df], axis = 1)"
   ]
  },
  {
   "cell_type": "code",
   "execution_count": 25,
   "metadata": {
    "id": "z9RNxihBje1s",
    "outputId": "e258f215-7749-487f-d265-834df5af2e07"
   },
   "outputs": [
    {
     "data": {
      "text/html": [
       "<div>\n",
       "<style scoped>\n",
       "    .dataframe tbody tr th:only-of-type {\n",
       "        vertical-align: middle;\n",
       "    }\n",
       "\n",
       "    .dataframe tbody tr th {\n",
       "        vertical-align: top;\n",
       "    }\n",
       "\n",
       "    .dataframe thead th {\n",
       "        text-align: right;\n",
       "    }\n",
       "</style>\n",
       "<table border=\"1\" class=\"dataframe\">\n",
       "  <thead>\n",
       "    <tr style=\"text-align: right;\">\n",
       "      <th></th>\n",
       "      <th>customerID</th>\n",
       "      <th>PhoneService</th>\n",
       "      <th>PaperlessBilling</th>\n",
       "      <th>Churn</th>\n",
       "      <th>SeniorCitizen</th>\n",
       "      <th>Partner</th>\n",
       "      <th>Dependents</th>\n",
       "      <th>Contract_One year</th>\n",
       "      <th>Contract_Two year</th>\n",
       "      <th>PaymentMethod_Credit card (automatic)</th>\n",
       "      <th>...</th>\n",
       "      <th>InternetService_No</th>\n",
       "      <th>OnlineSecurity_Yes</th>\n",
       "      <th>OnlineBackup_Yes</th>\n",
       "      <th>DeviceProtection_Yes</th>\n",
       "      <th>TechSupport_Yes</th>\n",
       "      <th>StreamingTV_Yes</th>\n",
       "      <th>StreamingMovies_Yes</th>\n",
       "      <th>tenure</th>\n",
       "      <th>MonthlyCharges</th>\n",
       "      <th>TotalCharges</th>\n",
       "    </tr>\n",
       "  </thead>\n",
       "  <tbody>\n",
       "    <tr>\n",
       "      <th>7038</th>\n",
       "      <td>6840-RESVB</td>\n",
       "      <td>1</td>\n",
       "      <td>1</td>\n",
       "      <td>0</td>\n",
       "      <td>0</td>\n",
       "      <td>1</td>\n",
       "      <td>1</td>\n",
       "      <td>1</td>\n",
       "      <td>0</td>\n",
       "      <td>0</td>\n",
       "      <td>...</td>\n",
       "      <td>0</td>\n",
       "      <td>1</td>\n",
       "      <td>0</td>\n",
       "      <td>1</td>\n",
       "      <td>1</td>\n",
       "      <td>1</td>\n",
       "      <td>1</td>\n",
       "      <td>-0.343113</td>\n",
       "      <td>0.664821</td>\n",
       "      <td>-0.129171</td>\n",
       "    </tr>\n",
       "    <tr>\n",
       "      <th>7039</th>\n",
       "      <td>2234-XADUH</td>\n",
       "      <td>1</td>\n",
       "      <td>1</td>\n",
       "      <td>0</td>\n",
       "      <td>0</td>\n",
       "      <td>1</td>\n",
       "      <td>1</td>\n",
       "      <td>1</td>\n",
       "      <td>0</td>\n",
       "      <td>1</td>\n",
       "      <td>...</td>\n",
       "      <td>0</td>\n",
       "      <td>0</td>\n",
       "      <td>1</td>\n",
       "      <td>1</td>\n",
       "      <td>0</td>\n",
       "      <td>1</td>\n",
       "      <td>1</td>\n",
       "      <td>1.612459</td>\n",
       "      <td>1.276402</td>\n",
       "      <td>2.240896</td>\n",
       "    </tr>\n",
       "    <tr>\n",
       "      <th>7040</th>\n",
       "      <td>4801-JZAZL</td>\n",
       "      <td>0</td>\n",
       "      <td>1</td>\n",
       "      <td>0</td>\n",
       "      <td>0</td>\n",
       "      <td>1</td>\n",
       "      <td>1</td>\n",
       "      <td>0</td>\n",
       "      <td>0</td>\n",
       "      <td>0</td>\n",
       "      <td>...</td>\n",
       "      <td>0</td>\n",
       "      <td>1</td>\n",
       "      <td>0</td>\n",
       "      <td>0</td>\n",
       "      <td>0</td>\n",
       "      <td>0</td>\n",
       "      <td>0</td>\n",
       "      <td>-0.872746</td>\n",
       "      <td>-1.169921</td>\n",
       "      <td>-0.854453</td>\n",
       "    </tr>\n",
       "    <tr>\n",
       "      <th>7041</th>\n",
       "      <td>8361-LTMKD</td>\n",
       "      <td>1</td>\n",
       "      <td>1</td>\n",
       "      <td>1</td>\n",
       "      <td>1</td>\n",
       "      <td>1</td>\n",
       "      <td>0</td>\n",
       "      <td>0</td>\n",
       "      <td>0</td>\n",
       "      <td>0</td>\n",
       "      <td>...</td>\n",
       "      <td>0</td>\n",
       "      <td>0</td>\n",
       "      <td>0</td>\n",
       "      <td>0</td>\n",
       "      <td>0</td>\n",
       "      <td>0</td>\n",
       "      <td>0</td>\n",
       "      <td>-1.157934</td>\n",
       "      <td>0.319145</td>\n",
       "      <td>-0.872033</td>\n",
       "    </tr>\n",
       "    <tr>\n",
       "      <th>7042</th>\n",
       "      <td>3186-AJIEK</td>\n",
       "      <td>1</td>\n",
       "      <td>1</td>\n",
       "      <td>0</td>\n",
       "      <td>0</td>\n",
       "      <td>0</td>\n",
       "      <td>0</td>\n",
       "      <td>0</td>\n",
       "      <td>1</td>\n",
       "      <td>0</td>\n",
       "      <td>...</td>\n",
       "      <td>0</td>\n",
       "      <td>1</td>\n",
       "      <td>0</td>\n",
       "      <td>1</td>\n",
       "      <td>1</td>\n",
       "      <td>1</td>\n",
       "      <td>1</td>\n",
       "      <td>1.368012</td>\n",
       "      <td>1.357835</td>\n",
       "      <td>2.012201</td>\n",
       "    </tr>\n",
       "  </tbody>\n",
       "</table>\n",
       "<p>5 rows × 25 columns</p>\n",
       "</div>"
      ],
      "text/plain": [
       "      customerID  PhoneService  PaperlessBilling  Churn  SeniorCitizen  \\\n",
       "7038  6840-RESVB             1                 1      0              0   \n",
       "7039  2234-XADUH             1                 1      0              0   \n",
       "7040  4801-JZAZL             0                 1      0              0   \n",
       "7041  8361-LTMKD             1                 1      1              1   \n",
       "7042  3186-AJIEK             1                 1      0              0   \n",
       "\n",
       "      Partner  Dependents  Contract_One year  Contract_Two year  \\\n",
       "7038        1           1                  1                  0   \n",
       "7039        1           1                  1                  0   \n",
       "7040        1           1                  0                  0   \n",
       "7041        1           0                  0                  0   \n",
       "7042        0           0                  0                  1   \n",
       "\n",
       "      PaymentMethod_Credit card (automatic)  ...  InternetService_No  \\\n",
       "7038                                      0  ...                   0   \n",
       "7039                                      1  ...                   0   \n",
       "7040                                      0  ...                   0   \n",
       "7041                                      0  ...                   0   \n",
       "7042                                      0  ...                   0   \n",
       "\n",
       "      OnlineSecurity_Yes  OnlineBackup_Yes  DeviceProtection_Yes  \\\n",
       "7038                   1                 0                     1   \n",
       "7039                   0                 1                     1   \n",
       "7040                   1                 0                     0   \n",
       "7041                   0                 0                     0   \n",
       "7042                   1                 0                     1   \n",
       "\n",
       "      TechSupport_Yes  StreamingTV_Yes  StreamingMovies_Yes    tenure  \\\n",
       "7038                1                1                    1 -0.343113   \n",
       "7039                0                1                    1  1.612459   \n",
       "7040                0                0                    0 -0.872746   \n",
       "7041                0                0                    0 -1.157934   \n",
       "7042                1                1                    1  1.368012   \n",
       "\n",
       "      MonthlyCharges  TotalCharges  \n",
       "7038        0.664821     -0.129171  \n",
       "7039        1.276402      2.240896  \n",
       "7040       -1.169921     -0.854453  \n",
       "7041        0.319145     -0.872033  \n",
       "7042        1.357835      2.012201  \n",
       "\n",
       "[5 rows x 25 columns]"
      ]
     },
     "execution_count": 25,
     "metadata": {},
     "output_type": "execute_result"
    }
   ],
   "source": [
    "# print telecom tail\n",
    "telecom.tail()"
   ]
  },
  {
   "cell_type": "markdown",
   "metadata": {
    "id": "stZfhvBeje1s"
   },
   "source": [
    "### Checking the Churn Rate\n",
    "\n",
    "<p style='text-align: right;'> 2 points</p>\n"
   ]
  },
  {
   "cell_type": "code",
   "execution_count": 26,
   "metadata": {
    "id": "5Tm_aKQije1s"
   },
   "outputs": [],
   "source": [
    "#caluclating total churn percentage in our master dataframe\n",
    "churn = (sum(telecom['Churn'])/len(telecom['Churn'].index))*100"
   ]
  },
  {
   "cell_type": "code",
   "execution_count": 27,
   "metadata": {
    "id": "8H1Spmvqje1t",
    "outputId": "362db0f2-fdfa-4afa-831c-35e85c6900ca"
   },
   "outputs": [
    {
     "name": "stdout",
     "output_type": "stream",
     "text": [
      "26.578498293515356\n"
     ]
    }
   ],
   "source": [
    "# print churn\n",
    "print(churn)"
   ]
  },
  {
   "cell_type": "markdown",
   "metadata": {
    "id": "jFZeFEzSje1t"
   },
   "source": [
    "We have almost 27% churn rate"
   ]
  },
  {
   "cell_type": "markdown",
   "metadata": {
    "id": "ipXi4VG2je1t"
   },
   "source": [
    "## Model Building\n",
    "\n",
    "<p style='text-align: right;'> 11 points</p>"
   ]
  },
  {
   "cell_type": "code",
   "execution_count": 28,
   "metadata": {
    "id": "AQIUpZvZje1t"
   },
   "outputs": [],
   "source": [
    "# Putting feature variable to X. drop 'customerID' from features as its not informative for our prediction\n",
    "X = telecom.drop(['Churn', 'customerID'], axis=1)\n",
    "\n",
    "# Putting response variable to y\n",
    "y = telecom['Churn']"
   ]
  },
  {
   "cell_type": "code",
   "execution_count": 29,
   "metadata": {
    "id": "pfwzxvldje1t",
    "outputId": "be6a2095-b04c-4f6c-b50c-55305b392a7a"
   },
   "outputs": [
    {
     "data": {
      "text/plain": [
       "0    0\n",
       "1    0\n",
       "2    1\n",
       "3    0\n",
       "4    1\n",
       "Name: Churn, dtype: int64"
      ]
     },
     "execution_count": 29,
     "metadata": {},
     "output_type": "execute_result"
    }
   ],
   "source": [
    "# print y head\n",
    "y.head()"
   ]
  },
  {
   "cell_type": "markdown",
   "metadata": {
    "id": "Nz4BIbTwje1u"
   },
   "source": [
    "### Running Your First Training Model"
   ]
  },
  {
   "cell_type": "code",
   "execution_count": 30,
   "metadata": {
    "id": "pfWWB-qqje1u"
   },
   "outputs": [],
   "source": [
    "# import statsmodels api as sm\n",
    "\n",
    "import statsmodels.api as sm"
   ]
  },
  {
   "cell_type": "markdown",
   "metadata": {
    "id": "YIvDCQaqje1u"
   },
   "source": [
    "### Splitting Data into Training and Test Sets"
   ]
  },
  {
   "cell_type": "code",
   "execution_count": 31,
   "metadata": {
    "id": "YH04-0A9je1u"
   },
   "outputs": [],
   "source": [
    "# import train_test_split module\n",
    "from sklearn.model_selection import train_test_split"
   ]
  },
  {
   "cell_type": "code",
   "execution_count": 32,
   "metadata": {
    "id": "PiaRDv-7je1u"
   },
   "outputs": [
    {
     "name": "stderr",
     "output_type": "stream",
     "text": [
      "D:\\Anaconda\\lib\\site-packages\\statsmodels\\tsa\\tsatools.py:142: FutureWarning: In a future version of pandas all arguments of concat except for the argument 'objs' will be keyword-only\n",
      "  x = pd.concat(x[::order], 1)\n"
     ]
    }
   ],
   "source": [
    "# adding constant to X\n",
    "X= sm.add_constant(X)\n",
    "# Splitting the data into train and test with train_size=0.7 and random_state=100\n",
    "X_train, X_test, y_train, y_test = train_test_split(X, y, train_size=0.7, random_state=100)\n"
   ]
  },
  {
   "cell_type": "code",
   "execution_count": 34,
   "metadata": {
    "id": "9oVAcZ8Vje1v",
    "outputId": "3173889d-8f86-48e9-b767-a7279fa00095",
    "scrolled": false
   },
   "outputs": [
    {
     "name": "stdout",
     "output_type": "stream",
     "text": [
      "Optimization terminated successfully.\n",
      "         Current function value: 0.407291\n",
      "         Iterations 8\n"
     ]
    },
    {
     "data": {
      "text/html": [
       "<table class=\"simpletable\">\n",
       "<caption>Logit Regression Results</caption>\n",
       "<tr>\n",
       "  <th>Dep. Variable:</th>         <td>Churn</td>      <th>  No. Observations:  </th>  <td>  4922</td> \n",
       "</tr>\n",
       "<tr>\n",
       "  <th>Model:</th>                 <td>Logit</td>      <th>  Df Residuals:      </th>  <td>  4898</td> \n",
       "</tr>\n",
       "<tr>\n",
       "  <th>Method:</th>                 <td>MLE</td>       <th>  Df Model:          </th>  <td>    23</td> \n",
       "</tr>\n",
       "<tr>\n",
       "  <th>Date:</th>            <td>Thu, 03 Feb 2022</td> <th>  Pseudo R-squ.:     </th>  <td>0.2912</td> \n",
       "</tr>\n",
       "<tr>\n",
       "  <th>Time:</th>                <td>21:34:17</td>     <th>  Log-Likelihood:    </th> <td> -2004.7</td>\n",
       "</tr>\n",
       "<tr>\n",
       "  <th>converged:</th>             <td>True</td>       <th>  LL-Null:           </th> <td> -2828.2</td>\n",
       "</tr>\n",
       "<tr>\n",
       "  <th>Covariance Type:</th>     <td>nonrobust</td>    <th>  LLR p-value:       </th>  <td> 0.000</td> \n",
       "</tr>\n",
       "</table>\n",
       "<table class=\"simpletable\">\n",
       "<tr>\n",
       "                    <td></td>                       <th>coef</th>     <th>std err</th>      <th>z</th>      <th>P>|z|</th>  <th>[0.025</th>    <th>0.975]</th>  \n",
       "</tr>\n",
       "<tr>\n",
       "  <th>const</th>                                 <td>   -3.9338</td> <td>    1.545</td> <td>   -2.545</td> <td> 0.011</td> <td>   -6.963</td> <td>   -0.905</td>\n",
       "</tr>\n",
       "<tr>\n",
       "  <th>PhoneService</th>                          <td>    0.9507</td> <td>    0.789</td> <td>    1.205</td> <td> 0.228</td> <td>   -0.595</td> <td>    2.497</td>\n",
       "</tr>\n",
       "<tr>\n",
       "  <th>PaperlessBilling</th>                      <td>    0.3254</td> <td>    0.090</td> <td>    3.614</td> <td> 0.000</td> <td>    0.149</td> <td>    0.502</td>\n",
       "</tr>\n",
       "<tr>\n",
       "  <th>SeniorCitizen</th>                         <td>    0.3984</td> <td>    0.102</td> <td>    3.924</td> <td> 0.000</td> <td>    0.199</td> <td>    0.597</td>\n",
       "</tr>\n",
       "<tr>\n",
       "  <th>Partner</th>                               <td>    0.0374</td> <td>    0.094</td> <td>    0.399</td> <td> 0.690</td> <td>   -0.146</td> <td>    0.221</td>\n",
       "</tr>\n",
       "<tr>\n",
       "  <th>Dependents</th>                            <td>   -0.1430</td> <td>    0.107</td> <td>   -1.332</td> <td> 0.183</td> <td>   -0.353</td> <td>    0.067</td>\n",
       "</tr>\n",
       "<tr>\n",
       "  <th>Contract_One year</th>                     <td>   -0.6578</td> <td>    0.129</td> <td>   -5.106</td> <td> 0.000</td> <td>   -0.910</td> <td>   -0.405</td>\n",
       "</tr>\n",
       "<tr>\n",
       "  <th>Contract_Two year</th>                     <td>   -1.2455</td> <td>    0.212</td> <td>   -5.874</td> <td> 0.000</td> <td>   -1.661</td> <td>   -0.830</td>\n",
       "</tr>\n",
       "<tr>\n",
       "  <th>PaymentMethod_Credit card (automatic)</th> <td>   -0.2577</td> <td>    0.137</td> <td>   -1.883</td> <td> 0.060</td> <td>   -0.526</td> <td>    0.011</td>\n",
       "</tr>\n",
       "<tr>\n",
       "  <th>PaymentMethod_Electronic check</th>        <td>    0.1615</td> <td>    0.113</td> <td>    1.434</td> <td> 0.152</td> <td>   -0.059</td> <td>    0.382</td>\n",
       "</tr>\n",
       "<tr>\n",
       "  <th>PaymentMethod_Mailed check</th>            <td>   -0.2536</td> <td>    0.137</td> <td>   -1.845</td> <td> 0.065</td> <td>   -0.523</td> <td>    0.016</td>\n",
       "</tr>\n",
       "<tr>\n",
       "  <th>gender_Male</th>                           <td>   -0.0346</td> <td>    0.078</td> <td>   -0.442</td> <td> 0.658</td> <td>   -0.188</td> <td>    0.119</td>\n",
       "</tr>\n",
       "<tr>\n",
       "  <th>MultipleLines_Yes</th>                     <td>    0.5623</td> <td>    0.214</td> <td>    2.628</td> <td> 0.009</td> <td>    0.143</td> <td>    0.982</td>\n",
       "</tr>\n",
       "<tr>\n",
       "  <th>InternetService_Fiber optic</th>           <td>    2.5124</td> <td>    0.967</td> <td>    2.599</td> <td> 0.009</td> <td>    0.618</td> <td>    4.407</td>\n",
       "</tr>\n",
       "<tr>\n",
       "  <th>InternetService_No</th>                    <td>   -2.7792</td> <td>    0.982</td> <td>   -2.831</td> <td> 0.005</td> <td>   -4.703</td> <td>   -0.855</td>\n",
       "</tr>\n",
       "<tr>\n",
       "  <th>OnlineSecurity_Yes</th>                    <td>   -0.0245</td> <td>    0.216</td> <td>   -0.113</td> <td> 0.910</td> <td>   -0.448</td> <td>    0.399</td>\n",
       "</tr>\n",
       "<tr>\n",
       "  <th>OnlineBackup_Yes</th>                      <td>    0.1740</td> <td>    0.212</td> <td>    0.822</td> <td> 0.411</td> <td>   -0.241</td> <td>    0.589</td>\n",
       "</tr>\n",
       "<tr>\n",
       "  <th>DeviceProtection_Yes</th>                  <td>    0.3229</td> <td>    0.215</td> <td>    1.501</td> <td> 0.133</td> <td>   -0.099</td> <td>    0.744</td>\n",
       "</tr>\n",
       "<tr>\n",
       "  <th>TechSupport_Yes</th>                       <td>   -0.0305</td> <td>    0.216</td> <td>   -0.141</td> <td> 0.888</td> <td>   -0.455</td> <td>    0.394</td>\n",
       "</tr>\n",
       "<tr>\n",
       "  <th>StreamingTV_Yes</th>                       <td>    0.9598</td> <td>    0.396</td> <td>    2.423</td> <td> 0.015</td> <td>    0.183</td> <td>    1.736</td>\n",
       "</tr>\n",
       "<tr>\n",
       "  <th>StreamingMovies_Yes</th>                   <td>    0.8484</td> <td>    0.396</td> <td>    2.143</td> <td> 0.032</td> <td>    0.072</td> <td>    1.624</td>\n",
       "</tr>\n",
       "<tr>\n",
       "  <th>tenure</th>                                <td>   -1.5198</td> <td>    0.190</td> <td>   -8.015</td> <td> 0.000</td> <td>   -1.891</td> <td>   -1.148</td>\n",
       "</tr>\n",
       "<tr>\n",
       "  <th>MonthlyCharges</th>                        <td>   -2.1817</td> <td>    1.160</td> <td>   -1.880</td> <td> 0.060</td> <td>   -4.456</td> <td>    0.092</td>\n",
       "</tr>\n",
       "<tr>\n",
       "  <th>TotalCharges</th>                          <td>    0.7329</td> <td>    0.198</td> <td>    3.705</td> <td> 0.000</td> <td>    0.345</td> <td>    1.121</td>\n",
       "</tr>\n",
       "</table>"
      ],
      "text/plain": [
       "<class 'statsmodels.iolib.summary.Summary'>\n",
       "\"\"\"\n",
       "                           Logit Regression Results                           \n",
       "==============================================================================\n",
       "Dep. Variable:                  Churn   No. Observations:                 4922\n",
       "Model:                          Logit   Df Residuals:                     4898\n",
       "Method:                           MLE   Df Model:                           23\n",
       "Date:                Thu, 03 Feb 2022   Pseudo R-squ.:                  0.2912\n",
       "Time:                        21:34:17   Log-Likelihood:                -2004.7\n",
       "converged:                       True   LL-Null:                       -2828.2\n",
       "Covariance Type:            nonrobust   LLR p-value:                     0.000\n",
       "=========================================================================================================\n",
       "                                            coef    std err          z      P>|z|      [0.025      0.975]\n",
       "---------------------------------------------------------------------------------------------------------\n",
       "const                                    -3.9338      1.545     -2.545      0.011      -6.963      -0.905\n",
       "PhoneService                              0.9507      0.789      1.205      0.228      -0.595       2.497\n",
       "PaperlessBilling                          0.3254      0.090      3.614      0.000       0.149       0.502\n",
       "SeniorCitizen                             0.3984      0.102      3.924      0.000       0.199       0.597\n",
       "Partner                                   0.0374      0.094      0.399      0.690      -0.146       0.221\n",
       "Dependents                               -0.1430      0.107     -1.332      0.183      -0.353       0.067\n",
       "Contract_One year                        -0.6578      0.129     -5.106      0.000      -0.910      -0.405\n",
       "Contract_Two year                        -1.2455      0.212     -5.874      0.000      -1.661      -0.830\n",
       "PaymentMethod_Credit card (automatic)    -0.2577      0.137     -1.883      0.060      -0.526       0.011\n",
       "PaymentMethod_Electronic check            0.1615      0.113      1.434      0.152      -0.059       0.382\n",
       "PaymentMethod_Mailed check               -0.2536      0.137     -1.845      0.065      -0.523       0.016\n",
       "gender_Male                              -0.0346      0.078     -0.442      0.658      -0.188       0.119\n",
       "MultipleLines_Yes                         0.5623      0.214      2.628      0.009       0.143       0.982\n",
       "InternetService_Fiber optic               2.5124      0.967      2.599      0.009       0.618       4.407\n",
       "InternetService_No                       -2.7792      0.982     -2.831      0.005      -4.703      -0.855\n",
       "OnlineSecurity_Yes                       -0.0245      0.216     -0.113      0.910      -0.448       0.399\n",
       "OnlineBackup_Yes                          0.1740      0.212      0.822      0.411      -0.241       0.589\n",
       "DeviceProtection_Yes                      0.3229      0.215      1.501      0.133      -0.099       0.744\n",
       "TechSupport_Yes                          -0.0305      0.216     -0.141      0.888      -0.455       0.394\n",
       "StreamingTV_Yes                           0.9598      0.396      2.423      0.015       0.183       1.736\n",
       "StreamingMovies_Yes                       0.8484      0.396      2.143      0.032       0.072       1.624\n",
       "tenure                                   -1.5198      0.190     -8.015      0.000      -1.891      -1.148\n",
       "MonthlyCharges                           -2.1817      1.160     -1.880      0.060      -4.456       0.092\n",
       "TotalCharges                              0.7329      0.198      3.705      0.000       0.345       1.121\n",
       "=========================================================================================================\n",
       "\"\"\""
      ]
     },
     "execution_count": 34,
     "metadata": {},
     "output_type": "execute_result"
    }
   ],
   "source": [
    "# Logistic regression model\n",
    "logm1 = sm.Logit(y_train, X_train)\n",
    "\n",
    "#fitting and printing summary\n",
    "logm1.fit().summary()"
   ]
  },
  {
   "cell_type": "markdown",
   "metadata": {
    "id": "aTJAV8FKje1v"
   },
   "source": [
    "From above you can see that there few statistically insignificant variables present in our dataset. Lets drop them off.\n",
    "\n",
    "Let's drop those variables which has less than 70% confidence to reject the null hyposthesis looking into P values.\n",
    "    "
   ]
  },
  {
   "cell_type": "code",
   "execution_count": 37,
   "metadata": {
    "id": "D2nxrAf7je1v"
   },
   "outputs": [],
   "source": [
    "# drop above features from X\n",
    "X.drop(['PhoneService', 'Partner', 'Dependents', 'PaymentMethod_Electronic check', 'gender_Male', 'OnlineSecurity_Yes', 'OnlineBackup_Yes', 'DeviceProtection_Yes', 'TechSupport_Yes'], axis = 1, inplace = True)\n"
   ]
  },
  {
   "cell_type": "markdown",
   "metadata": {
    "id": "SJqL7Xxzje1v"
   },
   "source": [
    "### Correlation Matrix\n",
    "\n",
    "<p style='text-align: right;'> 2 points</p>\n"
   ]
  },
  {
   "cell_type": "code",
   "execution_count": 38,
   "metadata": {
    "id": "TgfMk7DFje1w"
   },
   "outputs": [],
   "source": [
    "# Importing matplotlib and seaborn\n",
    "import matplotlib.pyplot as plt\n",
    "import seaborn as sns\n",
    "\n"
   ]
  },
  {
   "cell_type": "code",
   "execution_count": 39,
   "metadata": {
    "id": "CHyji9tIje1w",
    "outputId": "a1134345-2bfb-48b7-8f85-60ca70e6e3e8"
   },
   "outputs": [
    {
     "data": {
      "text/plain": [
       "<AxesSubplot:>"
      ]
     },
     "execution_count": 39,
     "metadata": {},
     "output_type": "execute_result"
    },
    {
     "data": {
      "image/png": "[encoded data removed]",
      "text/plain": [
       "<Figure size 1440x720 with 2 Axes>"
      ]
     },
     "metadata": {
      "needs_background": "light"
     },
     "output_type": "display_data"
    }
   ],
   "source": [
    "# Let's see the correlation matrix \n",
    "plt.figure(figsize = (20,10))        # Size of the figure\n",
    "sns.heatmap(X.corr(), annot=True)"
   ]
  },
  {
   "cell_type": "markdown",
   "metadata": {
    "id": "HZugVD-Pje1w"
   },
   "source": [
    "### Dropping highly correlated variables.\n",
    "\n",
    "<p style='text-align: right;'> 4 points</p>\n",
    "\n",
    "\n"
   ]
  },
  {
   "cell_type": "code",
   "execution_count": 42,
   "metadata": {
    "id": "i3IVqkC6je1w"
   },
   "outputs": [],
   "source": [
    "# Write a correlation function to drop correllation function to remove highly correlated variables (>70%)\n",
    "def correlation(dataset, threshold):\n",
    "    col_corr = set() #Set all the names of the correlated columns\n",
    "    corr_matrix = dataset.corr()\n",
    "    for i in range(len(corr_matrix.columns)):\n",
    "        for j in range(i):\n",
    "            if abs(corr_matrix.iloc[i, j]) > threshold:\n",
    "                colname = corr_matrix.columns[i]  #getting the name of column\n",
    "                col_corr.add(colname)\n",
    "                \n",
    "                \n",
    "                \n",
    "        \n",
    "    \n",
    "    \n",
    "    \n",
    "    \n",
    "    return col_corr"
   ]
  },
  {
   "cell_type": "code",
   "execution_count": 43,
   "metadata": {
    "id": "QWpzKXOsje1w",
    "outputId": "165c96ee-adf1-4ff0-8d0e-ad2adbd889e2"
   },
   "outputs": [
    {
     "data": {
      "text/plain": [
       "2"
      ]
     },
     "execution_count": 43,
     "metadata": {},
     "output_type": "execute_result"
    }
   ],
   "source": [
    "#get correlation function output with dataset as X and threshold as 0.7\n",
    "corr_features = correlation(X, 0.7)\n",
    "\n",
    "# print length of corr_features\n",
    "len(set(corr_features))"
   ]
  },
  {
   "cell_type": "code",
   "execution_count": 44,
   "metadata": {
    "id": "njBZ21Seje1x",
    "outputId": "e202d427-e7a4-4043-9ae8-0e79d98cf879"
   },
   "outputs": [
    {
     "data": {
      "text/plain": [
       "{'MonthlyCharges', 'TotalCharges'}"
      ]
     },
     "execution_count": 44,
     "metadata": {},
     "output_type": "execute_result"
    }
   ],
   "source": [
    "#print corr_features\n",
    "corr_features\n"
   ]
  },
  {
   "cell_type": "code",
   "execution_count": 45,
   "metadata": {
    "id": "Rm6a2n-Cje1x"
   },
   "outputs": [],
   "source": [
    "# Lets drop the above variables from X\n",
    "X.drop(['MonthlyCharges', 'TotalCharges'], axis =1, inplace = True)\n"
   ]
  },
  {
   "cell_type": "markdown",
   "metadata": {
    "id": "4IjEwF_uje1x"
   },
   "source": [
    "## Dropping Variable with high VIF\n",
    "\n",
    "<p style='text-align: right;'> 5 points</p>\n",
    "\n",
    "\n",
    " "
   ]
  },
  {
   "cell_type": "code",
   "execution_count": 46,
   "metadata": {
    "id": "ouJcRr7Yje1y",
    "outputId": "d31094f4-97da-43f6-c132-9a0fb39bef2d"
   },
   "outputs": [],
   "source": [
    "# Import library for VIF\n",
    "from statsmodels.stats.outliers_influence import variance_inflation_factor\n",
    "\n",
    "# empty dataframe\n",
    "vif= pd.DataFrame()\n",
    "\n",
    "#variables names with all variables in column X\n",
    "vif[\"variables\"] = X.columns\n",
    "\n",
    "# Vif scores for corresponding features\n",
    "vif[\"VIF\"] = [round(variance_inflation_factor(X.values, i), 2) for i in range(X.shape[1])]"
   ]
  },
  {
   "cell_type": "code",
   "execution_count": 116,
   "metadata": {
    "id": "YbXRG-Tbje1z",
    "outputId": "03e39be3-5fc8-40c3-c7c9-23d8777bfd8d"
   },
   "outputs": [
    {
     "data": {
      "text/html": [
       "<div>\n",
       "<style scoped>\n",
       "    .dataframe tbody tr th:only-of-type {\n",
       "        vertical-align: middle;\n",
       "    }\n",
       "\n",
       "    .dataframe tbody tr th {\n",
       "        vertical-align: top;\n",
       "    }\n",
       "\n",
       "    .dataframe thead th {\n",
       "        text-align: right;\n",
       "    }\n",
       "</style>\n",
       "<table border=\"1\" class=\"dataframe\">\n",
       "  <thead>\n",
       "    <tr style=\"text-align: right;\">\n",
       "      <th></th>\n",
       "      <th>variables</th>\n",
       "      <th>VIF</th>\n",
       "    </tr>\n",
       "  </thead>\n",
       "  <tbody>\n",
       "    <tr>\n",
       "      <th>2</th>\n",
       "      <td>SeniorCitizen</td>\n",
       "      <td>1.10</td>\n",
       "    </tr>\n",
       "    <tr>\n",
       "      <th>5</th>\n",
       "      <td>PaymentMethod_Credit card (automatic)</td>\n",
       "      <td>1.16</td>\n",
       "    </tr>\n",
       "    <tr>\n",
       "      <th>1</th>\n",
       "      <td>PaperlessBilling</td>\n",
       "      <td>1.20</td>\n",
       "    </tr>\n",
       "    <tr>\n",
       "      <th>7</th>\n",
       "      <td>MultipleLines_Yes</td>\n",
       "      <td>1.33</td>\n",
       "    </tr>\n",
       "    <tr>\n",
       "      <th>6</th>\n",
       "      <td>PaymentMethod_Mailed check</td>\n",
       "      <td>1.36</td>\n",
       "    </tr>\n",
       "    <tr>\n",
       "      <th>3</th>\n",
       "      <td>Contract_One year</td>\n",
       "      <td>1.57</td>\n",
       "    </tr>\n",
       "    <tr>\n",
       "      <th>10</th>\n",
       "      <td>StreamingTV_Yes</td>\n",
       "      <td>1.59</td>\n",
       "    </tr>\n",
       "    <tr>\n",
       "      <th>11</th>\n",
       "      <td>StreamingMovies_Yes</td>\n",
       "      <td>1.59</td>\n",
       "    </tr>\n",
       "    <tr>\n",
       "      <th>8</th>\n",
       "      <td>InternetService_Fiber optic</td>\n",
       "      <td>1.65</td>\n",
       "    </tr>\n",
       "    <tr>\n",
       "      <th>9</th>\n",
       "      <td>InternetService_No</td>\n",
       "      <td>1.66</td>\n",
       "    </tr>\n",
       "    <tr>\n",
       "      <th>12</th>\n",
       "      <td>tenure</td>\n",
       "      <td>2.41</td>\n",
       "    </tr>\n",
       "    <tr>\n",
       "      <th>4</th>\n",
       "      <td>Contract_Two year</td>\n",
       "      <td>2.47</td>\n",
       "    </tr>\n",
       "    <tr>\n",
       "      <th>0</th>\n",
       "      <td>const</td>\n",
       "      <td>9.26</td>\n",
       "    </tr>\n",
       "  </tbody>\n",
       "</table>\n",
       "</div>"
      ],
      "text/plain": [
       "                                variables   VIF\n",
       "2                           SeniorCitizen  1.10\n",
       "5   PaymentMethod_Credit card (automatic)  1.16\n",
       "1                        PaperlessBilling  1.20\n",
       "7                       MultipleLines_Yes  1.33\n",
       "6              PaymentMethod_Mailed check  1.36\n",
       "3                       Contract_One year  1.57\n",
       "10                        StreamingTV_Yes  1.59\n",
       "11                    StreamingMovies_Yes  1.59\n",
       "8             InternetService_Fiber optic  1.65\n",
       "9                      InternetService_No  1.66\n",
       "12                                 tenure  2.41\n",
       "4                       Contract_Two year  2.47\n",
       "0                                   const  9.26"
      ]
     },
     "execution_count": 116,
     "metadata": {},
     "output_type": "execute_result"
    }
   ],
   "source": [
    "# print vif\n",
    "vif.sort_values(by='VIF')"
   ]
  },
  {
   "cell_type": "markdown",
   "metadata": {},
   "source": [
    "# No Variables with high VIF"
   ]
  },
  {
   "cell_type": "markdown",
   "metadata": {
    "id": "H5zdh1y1je10"
   },
   "source": [
    "### Checking the Correlation Matrix again"
   ]
  },
  {
   "cell_type": "markdown",
   "metadata": {
    "id": "go9IDldxje10"
   },
   "source": [
    "After dropping highly correlated variables now let's check the correlation matrix again."
   ]
  },
  {
   "cell_type": "code",
   "execution_count": 49,
   "metadata": {
    "id": "NcV5G4nUje11",
    "outputId": "0808fb32-726c-41ae-df34-dfc92ade2058"
   },
   "outputs": [
    {
     "data": {
      "text/plain": [
       "<AxesSubplot:>"
      ]
     },
     "execution_count": 49,
     "metadata": {},
     "output_type": "execute_result"
    },
    {
     "data": {
      "image/png": "[encoded data removed]",
      "text/plain": [
       "<Figure size 864x720 with 2 Axes>"
      ]
     },
     "metadata": {
      "needs_background": "light"
     },
     "output_type": "display_data"
    }
   ],
   "source": [
    "#plot heatmap\n",
    "plt.figure(figsize=(12,10))\n",
    "sns.heatmap(X.corr(), annot = True)\n"
   ]
  },
  {
   "cell_type": "markdown",
   "metadata": {
    "id": "kxUp0umMje11"
   },
   "source": [
    "### Re-Running the Model\n",
    "\n",
    "<p style='text-align: right;'> 3 points</p>\n"
   ]
  },
  {
   "cell_type": "code",
   "execution_count": 50,
   "metadata": {
    "id": "I-c3wzSOje11",
    "outputId": "85d11482-eb69-42ba-a53f-758b1cfb8dd0"
   },
   "outputs": [
    {
     "name": "stdout",
     "output_type": "stream",
     "text": [
      "Optimization terminated successfully.\n",
      "         Current function value: 0.413269\n",
      "         Iterations 8\n"
     ]
    },
    {
     "data": {
      "text/html": [
       "<table class=\"simpletable\">\n",
       "<caption>Logit Regression Results</caption>\n",
       "<tr>\n",
       "  <th>Dep. Variable:</th>         <td>Churn</td>      <th>  No. Observations:  </th>  <td>  4922</td> \n",
       "</tr>\n",
       "<tr>\n",
       "  <th>Model:</th>                 <td>Logit</td>      <th>  Df Residuals:      </th>  <td>  4909</td> \n",
       "</tr>\n",
       "<tr>\n",
       "  <th>Method:</th>                 <td>MLE</td>       <th>  Df Model:          </th>  <td>    12</td> \n",
       "</tr>\n",
       "<tr>\n",
       "  <th>Date:</th>            <td>Fri, 04 Feb 2022</td> <th>  Pseudo R-squ.:     </th>  <td>0.2808</td> \n",
       "</tr>\n",
       "<tr>\n",
       "  <th>Time:</th>                <td>10:59:34</td>     <th>  Log-Likelihood:    </th> <td> -2034.1</td>\n",
       "</tr>\n",
       "<tr>\n",
       "  <th>converged:</th>             <td>True</td>       <th>  LL-Null:           </th> <td> -2828.2</td>\n",
       "</tr>\n",
       "<tr>\n",
       "  <th>Covariance Type:</th>     <td>nonrobust</td>    <th>  LLR p-value:       </th>  <td> 0.000</td> \n",
       "</tr>\n",
       "</table>\n",
       "<table class=\"simpletable\">\n",
       "<tr>\n",
       "                    <td></td>                       <th>coef</th>     <th>std err</th>      <th>z</th>      <th>P>|z|</th>  <th>[0.025</th>    <th>0.975]</th>  \n",
       "</tr>\n",
       "<tr>\n",
       "  <th>const</th>                                 <td>   -1.7661</td> <td>    0.123</td> <td>  -14.305</td> <td> 0.000</td> <td>   -2.008</td> <td>   -1.524</td>\n",
       "</tr>\n",
       "<tr>\n",
       "  <th>PaperlessBilling</th>                      <td>    0.3424</td> <td>    0.089</td> <td>    3.855</td> <td> 0.000</td> <td>    0.168</td> <td>    0.516</td>\n",
       "</tr>\n",
       "<tr>\n",
       "  <th>SeniorCitizen</th>                         <td>    0.4882</td> <td>    0.099</td> <td>    4.920</td> <td> 0.000</td> <td>    0.294</td> <td>    0.683</td>\n",
       "</tr>\n",
       "<tr>\n",
       "  <th>Contract_One year</th>                     <td>   -0.7731</td> <td>    0.126</td> <td>   -6.150</td> <td> 0.000</td> <td>   -1.020</td> <td>   -0.527</td>\n",
       "</tr>\n",
       "<tr>\n",
       "  <th>Contract_Two year</th>                     <td>   -1.4228</td> <td>    0.206</td> <td>   -6.905</td> <td> 0.000</td> <td>   -1.827</td> <td>   -1.019</td>\n",
       "</tr>\n",
       "<tr>\n",
       "  <th>PaymentMethod_Credit card (automatic)</th> <td>   -0.3988</td> <td>    0.112</td> <td>   -3.553</td> <td> 0.000</td> <td>   -0.619</td> <td>   -0.179</td>\n",
       "</tr>\n",
       "<tr>\n",
       "  <th>PaymentMethod_Mailed check</th>            <td>   -0.3593</td> <td>    0.109</td> <td>   -3.297</td> <td> 0.001</td> <td>   -0.573</td> <td>   -0.146</td>\n",
       "</tr>\n",
       "<tr>\n",
       "  <th>MultipleLines_Yes</th>                     <td>    0.2112</td> <td>    0.092</td> <td>    2.302</td> <td> 0.021</td> <td>    0.031</td> <td>    0.391</td>\n",
       "</tr>\n",
       "<tr>\n",
       "  <th>InternetService_Fiber optic</th>           <td>    0.8602</td> <td>    0.096</td> <td>    8.941</td> <td> 0.000</td> <td>    0.672</td> <td>    1.049</td>\n",
       "</tr>\n",
       "<tr>\n",
       "  <th>InternetService_No</th>                    <td>   -0.8443</td> <td>    0.152</td> <td>   -5.544</td> <td> 0.000</td> <td>   -1.143</td> <td>   -0.546</td>\n",
       "</tr>\n",
       "<tr>\n",
       "  <th>StreamingTV_Yes</th>                       <td>    0.3162</td> <td>    0.093</td> <td>    3.395</td> <td> 0.001</td> <td>    0.134</td> <td>    0.499</td>\n",
       "</tr>\n",
       "<tr>\n",
       "  <th>StreamingMovies_Yes</th>                   <td>    0.2169</td> <td>    0.093</td> <td>    2.334</td> <td> 0.020</td> <td>    0.035</td> <td>    0.399</td>\n",
       "</tr>\n",
       "<tr>\n",
       "  <th>tenure</th>                                <td>   -0.9686</td> <td>    0.065</td> <td>  -14.908</td> <td> 0.000</td> <td>   -1.096</td> <td>   -0.841</td>\n",
       "</tr>\n",
       "</table>"
      ],
      "text/plain": [
       "<class 'statsmodels.iolib.summary.Summary'>\n",
       "\"\"\"\n",
       "                           Logit Regression Results                           \n",
       "==============================================================================\n",
       "Dep. Variable:                  Churn   No. Observations:                 4922\n",
       "Model:                          Logit   Df Residuals:                     4909\n",
       "Method:                           MLE   Df Model:                           12\n",
       "Date:                Fri, 04 Feb 2022   Pseudo R-squ.:                  0.2808\n",
       "Time:                        10:59:34   Log-Likelihood:                -2034.1\n",
       "converged:                       True   LL-Null:                       -2828.2\n",
       "Covariance Type:            nonrobust   LLR p-value:                     0.000\n",
       "=========================================================================================================\n",
       "                                            coef    std err          z      P>|z|      [0.025      0.975]\n",
       "---------------------------------------------------------------------------------------------------------\n",
       "const                                    -1.7661      0.123    -14.305      0.000      -2.008      -1.524\n",
       "PaperlessBilling                          0.3424      0.089      3.855      0.000       0.168       0.516\n",
       "SeniorCitizen                             0.4882      0.099      4.920      0.000       0.294       0.683\n",
       "Contract_One year                        -0.7731      0.126     -6.150      0.000      -1.020      -0.527\n",
       "Contract_Two year                        -1.4228      0.206     -6.905      0.000      -1.827      -1.019\n",
       "PaymentMethod_Credit card (automatic)    -0.3988      0.112     -3.553      0.000      -0.619      -0.179\n",
       "PaymentMethod_Mailed check               -0.3593      0.109     -3.297      0.001      -0.573      -0.146\n",
       "MultipleLines_Yes                         0.2112      0.092      2.302      0.021       0.031       0.391\n",
       "InternetService_Fiber optic               0.8602      0.096      8.941      0.000       0.672       1.049\n",
       "InternetService_No                       -0.8443      0.152     -5.544      0.000      -1.143      -0.546\n",
       "StreamingTV_Yes                           0.3162      0.093      3.395      0.001       0.134       0.499\n",
       "StreamingMovies_Yes                       0.2169      0.093      2.334      0.020       0.035       0.399\n",
       "tenure                                   -0.9686      0.065    -14.908      0.000      -1.096      -0.841\n",
       "=========================================================================================================\n",
       "\"\"\""
      ]
     },
     "execution_count": 50,
     "metadata": {},
     "output_type": "execute_result"
    }
   ],
   "source": [
    "# Splitting the data into train and test with train_size=0.7 and random_state=100 again\n",
    "X_train, X_test, y_train, y_test = train_test_split(X, y, train_size=0.7, random_state=100)\n",
    "\n",
    "# building model again\n",
    "logm2 = sm.Logit(y_train, X_train)\n",
    "\n",
    "#fitting model and printing summary\n",
    "\n",
    "logm2.fit().summary()"
   ]
  },
  {
   "cell_type": "markdown",
   "metadata": {
    "id": "s5YkvqAMje12"
   },
   "source": [
    "Now you can see after removing all multicollinear features we got all P values to zero,  so now we can say that all features are statistically significant.\n",
    "\n",
    "### Feature Selection Using RFE\n",
    "\n",
    "<p style='text-align: right;'> 5 points</p>\n",
    "\n",
    "\n",
    "Lets do feature selection using LogisticRegression with RFE"
   ]
  },
  {
   "cell_type": "code",
   "execution_count": 51,
   "metadata": {
    "id": "Aba3yt4jje12",
    "outputId": "263f796b-97d4-4d8b-9485-2bf312e96eaa"
   },
   "outputs": [
    {
     "name": "stdout",
     "output_type": "stream",
     "text": [
      "[False  True False  True  True False False False  True  True False False\n",
      "  True]\n",
      "[8 1 3 1 1 4 5 7 1 1 6 2 1]\n"
     ]
    }
   ],
   "source": [
    "# import RFE and LogisticRegression\n",
    "from sklearn.linear_model import LogisticRegression\n",
    "from sklearn.feature_selection import RFE\n",
    "\n",
    "\n",
    "# Initiate LogisticRegression()\n",
    "logreg = LogisticRegression()\n",
    "\n",
    " # Initialise RFE \n",
    "rfe = RFE(logreg)      \n",
    "\n",
    "# fitting RFE \n",
    "rfe = rfe.fit(X, y)\n",
    "\n",
    "# Printing the boolean results\n",
    "print(rfe.support_)     \n",
    "# Printing the ranking\n",
    "print(rfe.ranking_)           "
   ]
  },
  {
   "cell_type": "code",
   "execution_count": 53,
   "metadata": {
    "id": "K7vAuyn-je12",
    "outputId": "4a5a55a0-5d20-4db3-80d4-ce4389c82230"
   },
   "outputs": [
    {
     "data": {
      "text/plain": [
       "Index(['PaperlessBilling', 'Contract_One year', 'Contract_Two year',\n",
       "       'InternetService_Fiber optic', 'InternetService_No', 'tenure'],\n",
       "      dtype='object')"
      ]
     },
     "execution_count": 53,
     "metadata": {},
     "output_type": "execute_result"
    }
   ],
   "source": [
    "# printing column names which were suppported by RFE\n",
    "X.columns[(rfe.support_)]"
   ]
  },
  {
   "cell_type": "code",
   "execution_count": 54,
   "metadata": {
    "id": "_8f4g-Mnje13"
   },
   "outputs": [],
   "source": [
    "# Variables selected by RFE \n",
    "col = ['PaperlessBilling', 'Contract_One year', 'Contract_Two year',\n",
    "       'InternetService_Fiber optic', 'InternetService_No', 'tenure']"
   ]
  },
  {
   "cell_type": "code",
   "execution_count": 55,
   "metadata": {
    "id": "LKxKoI6fje13",
    "outputId": "57b93462-2fc9-4bce-c5ea-111025663c6c"
   },
   "outputs": [
    {
     "data": {
      "text/plain": [
       "LogisticRegression()"
      ]
     },
     "execution_count": 55,
     "metadata": {},
     "output_type": "execute_result"
    }
   ],
   "source": [
    "# Let's run the model using the selected variables but this time we will use Logistic Regression\n",
    "\n",
    "#initialise Logistic Regression\n",
    "logsk = LogisticRegression()\n",
    "\n",
    "#fitting model using above columns as input\n",
    "logsk.fit(X_train[col], y_train)"
   ]
  },
  {
   "cell_type": "code",
   "execution_count": 56,
   "metadata": {
    "id": "v2QpGFCFje13",
    "outputId": "b70fc502-9c0a-4db3-bc32-4de2116da93a"
   },
   "outputs": [
    {
     "name": "stdout",
     "output_type": "stream",
     "text": [
      "Optimization terminated successfully.\n",
      "         Current function value: 0.450281\n",
      "         Iterations 8\n"
     ]
    },
    {
     "data": {
      "text/html": [
       "<table class=\"simpletable\">\n",
       "<caption>Logit Regression Results</caption>\n",
       "<tr>\n",
       "  <th>Dep. Variable:</th>         <td>Churn</td>      <th>  No. Observations:  </th>   <td>  4922</td>  \n",
       "</tr>\n",
       "<tr>\n",
       "  <th>Model:</th>                 <td>Logit</td>      <th>  Df Residuals:      </th>   <td>  4916</td>  \n",
       "</tr>\n",
       "<tr>\n",
       "  <th>Method:</th>                 <td>MLE</td>       <th>  Df Model:          </th>   <td>     5</td>  \n",
       "</tr>\n",
       "<tr>\n",
       "  <th>Date:</th>            <td>Fri, 04 Feb 2022</td> <th>  Pseudo R-squ.:     </th>   <td>0.2164</td>  \n",
       "</tr>\n",
       "<tr>\n",
       "  <th>Time:</th>                <td>11:08:39</td>     <th>  Log-Likelihood:    </th>  <td> -2216.3</td> \n",
       "</tr>\n",
       "<tr>\n",
       "  <th>converged:</th>             <td>True</td>       <th>  LL-Null:           </th>  <td> -2828.2</td> \n",
       "</tr>\n",
       "<tr>\n",
       "  <th>Covariance Type:</th>     <td>nonrobust</td>    <th>  LLR p-value:       </th> <td>2.074e-262</td>\n",
       "</tr>\n",
       "</table>\n",
       "<table class=\"simpletable\">\n",
       "<tr>\n",
       "               <td></td>                  <th>coef</th>     <th>std err</th>      <th>z</th>      <th>P>|z|</th>  <th>[0.025</th>    <th>0.975]</th>  \n",
       "</tr>\n",
       "<tr>\n",
       "  <th>PaperlessBilling</th>            <td>   -0.3568</td> <td>    0.069</td> <td>   -5.161</td> <td> 0.000</td> <td>   -0.492</td> <td>   -0.221</td>\n",
       "</tr>\n",
       "<tr>\n",
       "  <th>Contract_One year</th>           <td>   -1.6515</td> <td>    0.109</td> <td>  -15.140</td> <td> 0.000</td> <td>   -1.865</td> <td>   -1.438</td>\n",
       "</tr>\n",
       "<tr>\n",
       "  <th>Contract_Two year</th>           <td>   -2.7013</td> <td>    0.188</td> <td>  -14.379</td> <td> 0.000</td> <td>   -3.069</td> <td>   -2.333</td>\n",
       "</tr>\n",
       "<tr>\n",
       "  <th>InternetService_Fiber optic</th> <td>    0.3829</td> <td>    0.072</td> <td>    5.321</td> <td> 0.000</td> <td>    0.242</td> <td>    0.524</td>\n",
       "</tr>\n",
       "<tr>\n",
       "  <th>InternetService_No</th>          <td>   -1.8922</td> <td>    0.137</td> <td>  -13.844</td> <td> 0.000</td> <td>   -2.160</td> <td>   -1.624</td>\n",
       "</tr>\n",
       "<tr>\n",
       "  <th>tenure</th>                      <td>   -0.3647</td> <td>    0.047</td> <td>   -7.701</td> <td> 0.000</td> <td>   -0.458</td> <td>   -0.272</td>\n",
       "</tr>\n",
       "</table>"
      ],
      "text/plain": [
       "<class 'statsmodels.iolib.summary.Summary'>\n",
       "\"\"\"\n",
       "                           Logit Regression Results                           \n",
       "==============================================================================\n",
       "Dep. Variable:                  Churn   No. Observations:                 4922\n",
       "Model:                          Logit   Df Residuals:                     4916\n",
       "Method:                           MLE   Df Model:                            5\n",
       "Date:                Fri, 04 Feb 2022   Pseudo R-squ.:                  0.2164\n",
       "Time:                        11:08:39   Log-Likelihood:                -2216.3\n",
       "converged:                       True   LL-Null:                       -2828.2\n",
       "Covariance Type:            nonrobust   LLR p-value:                2.074e-262\n",
       "===============================================================================================\n",
       "                                  coef    std err          z      P>|z|      [0.025      0.975]\n",
       "-----------------------------------------------------------------------------------------------\n",
       "PaperlessBilling               -0.3568      0.069     -5.161      0.000      -0.492      -0.221\n",
       "Contract_One year              -1.6515      0.109    -15.140      0.000      -1.865      -1.438\n",
       "Contract_Two year              -2.7013      0.188    -14.379      0.000      -3.069      -2.333\n",
       "InternetService_Fiber optic     0.3829      0.072      5.321      0.000       0.242       0.524\n",
       "InternetService_No             -1.8922      0.137    -13.844      0.000      -2.160      -1.624\n",
       "tenure                         -0.3647      0.047     -7.701      0.000      -0.458      -0.272\n",
       "===============================================================================================\n",
       "\"\"\""
      ]
     },
     "execution_count": 56,
     "metadata": {},
     "output_type": "execute_result"
    }
   ],
   "source": [
    "#recreating the model with StatsModels with RFE selecte columns\n",
    "\n",
    "logm3 = sm.Logit(y_train, X_train[col])\n",
    "\n",
    "# Fitting and printing model summary\n",
    "logm3.fit().summary()"
   ]
  },
  {
   "cell_type": "markdown",
   "metadata": {
    "id": "JXZIzGWije13"
   },
   "source": [
    "### Making Predictions\n",
    "\n",
    "<p style='text-align: right;'> 14 points</p>\n"
   ]
  },
  {
   "cell_type": "code",
   "execution_count": 57,
   "metadata": {
    "id": "N-5vEYXlje14"
   },
   "outputs": [],
   "source": [
    "# Predicted probabilities\n",
    "y_pred = logsk.predict_proba(X_test[col])"
   ]
  },
  {
   "cell_type": "code",
   "execution_count": 59,
   "metadata": {
    "id": "dcDtgZxOje14"
   },
   "outputs": [],
   "source": [
    "# Converting y_pred to a dataframe which is an array\n",
    "y_pred_df = pd.DataFrame(y_pred)"
   ]
  },
  {
   "cell_type": "code",
   "execution_count": 60,
   "metadata": {
    "id": "r0BRhz3Jje14"
   },
   "outputs": [],
   "source": [
    "# Converting to column dataframe\n",
    "y_pred_1 = y_pred_df.iloc[:,[1]] "
   ]
  },
  {
   "cell_type": "code",
   "execution_count": 62,
   "metadata": {
    "id": "KutOxeTsje14",
    "outputId": "1d6f9c51-4110-42d0-c422-6a27a782c995"
   },
   "outputs": [
    {
     "data": {
      "text/html": [
       "<div>\n",
       "<style scoped>\n",
       "    .dataframe tbody tr th:only-of-type {\n",
       "        vertical-align: middle;\n",
       "    }\n",
       "\n",
       "    .dataframe tbody tr th {\n",
       "        vertical-align: top;\n",
       "    }\n",
       "\n",
       "    .dataframe thead th {\n",
       "        text-align: right;\n",
       "    }\n",
       "</style>\n",
       "<table border=\"1\" class=\"dataframe\">\n",
       "  <thead>\n",
       "    <tr style=\"text-align: right;\">\n",
       "      <th></th>\n",
       "      <th>1</th>\n",
       "    </tr>\n",
       "  </thead>\n",
       "  <tbody>\n",
       "    <tr>\n",
       "      <th>0</th>\n",
       "      <td>0.554340</td>\n",
       "    </tr>\n",
       "    <tr>\n",
       "      <th>1</th>\n",
       "      <td>0.293748</td>\n",
       "    </tr>\n",
       "    <tr>\n",
       "      <th>2</th>\n",
       "      <td>0.010005</td>\n",
       "    </tr>\n",
       "    <tr>\n",
       "      <th>3</th>\n",
       "      <td>0.727452</td>\n",
       "    </tr>\n",
       "    <tr>\n",
       "      <th>4</th>\n",
       "      <td>0.011327</td>\n",
       "    </tr>\n",
       "  </tbody>\n",
       "</table>\n",
       "</div>"
      ],
      "text/plain": [
       "          1\n",
       "0  0.554340\n",
       "1  0.293748\n",
       "2  0.010005\n",
       "3  0.727452\n",
       "4  0.011327"
      ]
     },
     "execution_count": 62,
     "metadata": {},
     "output_type": "execute_result"
    }
   ],
   "source": [
    "# Let's see the head\n",
    "y_pred_1.head()"
   ]
  },
  {
   "cell_type": "code",
   "execution_count": 64,
   "metadata": {
    "id": "kGCljiIbje14"
   },
   "outputs": [],
   "source": [
    "# Converting y_test to dataframe\n",
    "y_test_df = pd.DataFrame(y_test)"
   ]
  },
  {
   "cell_type": "code",
   "execution_count": 65,
   "metadata": {
    "id": "_dySJMn3je14"
   },
   "outputs": [],
   "source": [
    "# Putting CustID to index\n",
    "y_test_df['CustID'] = y_test_df.index"
   ]
  },
  {
   "cell_type": "code",
   "execution_count": 66,
   "metadata": {
    "id": "S2dAEPxUje14"
   },
   "outputs": [],
   "source": [
    "# Removing index for both dataframes to append them side by side \n",
    "y_pred_1.reset_index(drop=True, inplace = True)\n",
    "y_test_df.reset_index(drop=True, inplace = True)\n"
   ]
  },
  {
   "cell_type": "code",
   "execution_count": 67,
   "metadata": {
    "id": "YKGTnjuHje15"
   },
   "outputs": [],
   "source": [
    "# Appending y_test_df and y_pred_1\n",
    "y_pred_final = pd.concat([y_test_df, y_pred_1], axis = 1)"
   ]
  },
  {
   "cell_type": "code",
   "execution_count": 68,
   "metadata": {
    "id": "HxbhdtQCje15"
   },
   "outputs": [],
   "source": [
    "# Renaming the column \n",
    "y_pred_final = y_pred_final.rename(columns={ 1 : 'Churn_prob'})"
   ]
  },
  {
   "cell_type": "code",
   "execution_count": 71,
   "metadata": {
    "id": "7HOROOoAje15",
    "outputId": "2766aa79-d2f5-4dc4-8e23-67ebfbbdc84b"
   },
   "outputs": [
    {
     "data": {
      "text/html": [
       "<div>\n",
       "<style scoped>\n",
       "    .dataframe tbody tr th:only-of-type {\n",
       "        vertical-align: middle;\n",
       "    }\n",
       "\n",
       "    .dataframe tbody tr th {\n",
       "        vertical-align: top;\n",
       "    }\n",
       "\n",
       "    .dataframe thead th {\n",
       "        text-align: right;\n",
       "    }\n",
       "</style>\n",
       "<table border=\"1\" class=\"dataframe\">\n",
       "  <thead>\n",
       "    <tr style=\"text-align: right;\">\n",
       "      <th></th>\n",
       "      <th>CustID</th>\n",
       "      <th>Churn</th>\n",
       "      <th>Churn_prob</th>\n",
       "    </tr>\n",
       "  </thead>\n",
       "  <tbody>\n",
       "    <tr>\n",
       "      <th>0</th>\n",
       "      <td>942</td>\n",
       "      <td>0</td>\n",
       "      <td>0.554340</td>\n",
       "    </tr>\n",
       "    <tr>\n",
       "      <th>1</th>\n",
       "      <td>3730</td>\n",
       "      <td>1</td>\n",
       "      <td>0.293748</td>\n",
       "    </tr>\n",
       "    <tr>\n",
       "      <th>2</th>\n",
       "      <td>1761</td>\n",
       "      <td>0</td>\n",
       "      <td>0.010005</td>\n",
       "    </tr>\n",
       "    <tr>\n",
       "      <th>3</th>\n",
       "      <td>2283</td>\n",
       "      <td>1</td>\n",
       "      <td>0.727452</td>\n",
       "    </tr>\n",
       "    <tr>\n",
       "      <th>4</th>\n",
       "      <td>1872</td>\n",
       "      <td>0</td>\n",
       "      <td>0.011327</td>\n",
       "    </tr>\n",
       "    <tr>\n",
       "      <th>...</th>\n",
       "      <td>...</td>\n",
       "      <td>...</td>\n",
       "      <td>...</td>\n",
       "    </tr>\n",
       "    <tr>\n",
       "      <th>2105</th>\n",
       "      <td>1289</td>\n",
       "      <td>0</td>\n",
       "      <td>0.030708</td>\n",
       "    </tr>\n",
       "    <tr>\n",
       "      <th>2106</th>\n",
       "      <td>3508</td>\n",
       "      <td>0</td>\n",
       "      <td>0.058461</td>\n",
       "    </tr>\n",
       "    <tr>\n",
       "      <th>2107</th>\n",
       "      <td>6765</td>\n",
       "      <td>0</td>\n",
       "      <td>0.006965</td>\n",
       "    </tr>\n",
       "    <tr>\n",
       "      <th>2108</th>\n",
       "      <td>3598</td>\n",
       "      <td>0</td>\n",
       "      <td>0.356138</td>\n",
       "    </tr>\n",
       "    <tr>\n",
       "      <th>2109</th>\n",
       "      <td>4987</td>\n",
       "      <td>0</td>\n",
       "      <td>0.004214</td>\n",
       "    </tr>\n",
       "  </tbody>\n",
       "</table>\n",
       "<p>2110 rows × 3 columns</p>\n",
       "</div>"
      ],
      "text/plain": [
       "      CustID  Churn  Churn_prob\n",
       "0        942      0    0.554340\n",
       "1       3730      1    0.293748\n",
       "2       1761      0    0.010005\n",
       "3       2283      1    0.727452\n",
       "4       1872      0    0.011327\n",
       "...      ...    ...         ...\n",
       "2105    1289      0    0.030708\n",
       "2106    3508      0    0.058461\n",
       "2107    6765      0    0.006965\n",
       "2108    3598      0    0.356138\n",
       "2109    4987      0    0.004214\n",
       "\n",
       "[2110 rows x 3 columns]"
      ]
     },
     "execution_count": 71,
     "metadata": {},
     "output_type": "execute_result"
    }
   ],
   "source": [
    "#printing y_pred_final\n",
    "y_pred_final "
   ]
  },
  {
   "cell_type": "code",
   "execution_count": 72,
   "metadata": {
    "id": "Yo0vciLIje15"
   },
   "outputs": [],
   "source": [
    "# Rearranging the columns\n",
    "y_pred_final = y_pred_final.reindex(columns=['CustID', 'Churn','Churn_prob'])"
   ]
  },
  {
   "cell_type": "code",
   "execution_count": 73,
   "metadata": {
    "id": "M8EOZfPVje15",
    "outputId": "84cffeff-ad90-47d9-d442-7fed45228ea9"
   },
   "outputs": [
    {
     "data": {
      "text/html": [
       "<div>\n",
       "<style scoped>\n",
       "    .dataframe tbody tr th:only-of-type {\n",
       "        vertical-align: middle;\n",
       "    }\n",
       "\n",
       "    .dataframe tbody tr th {\n",
       "        vertical-align: top;\n",
       "    }\n",
       "\n",
       "    .dataframe thead th {\n",
       "        text-align: right;\n",
       "    }\n",
       "</style>\n",
       "<table border=\"1\" class=\"dataframe\">\n",
       "  <thead>\n",
       "    <tr style=\"text-align: right;\">\n",
       "      <th></th>\n",
       "      <th>CustID</th>\n",
       "      <th>Churn</th>\n",
       "      <th>Churn_prob</th>\n",
       "    </tr>\n",
       "  </thead>\n",
       "  <tbody>\n",
       "    <tr>\n",
       "      <th>0</th>\n",
       "      <td>942</td>\n",
       "      <td>0</td>\n",
       "      <td>0.554340</td>\n",
       "    </tr>\n",
       "    <tr>\n",
       "      <th>1</th>\n",
       "      <td>3730</td>\n",
       "      <td>1</td>\n",
       "      <td>0.293748</td>\n",
       "    </tr>\n",
       "    <tr>\n",
       "      <th>2</th>\n",
       "      <td>1761</td>\n",
       "      <td>0</td>\n",
       "      <td>0.010005</td>\n",
       "    </tr>\n",
       "    <tr>\n",
       "      <th>3</th>\n",
       "      <td>2283</td>\n",
       "      <td>1</td>\n",
       "      <td>0.727452</td>\n",
       "    </tr>\n",
       "    <tr>\n",
       "      <th>4</th>\n",
       "      <td>1872</td>\n",
       "      <td>0</td>\n",
       "      <td>0.011327</td>\n",
       "    </tr>\n",
       "  </tbody>\n",
       "</table>\n",
       "</div>"
      ],
      "text/plain": [
       "   CustID  Churn  Churn_prob\n",
       "0     942      0    0.554340\n",
       "1    3730      1    0.293748\n",
       "2    1761      0    0.010005\n",
       "3    2283      1    0.727452\n",
       "4    1872      0    0.011327"
      ]
     },
     "execution_count": 73,
     "metadata": {},
     "output_type": "execute_result"
    }
   ],
   "source": [
    "# Let's see the head of y_pred_final\n",
    "y_pred_final.head()"
   ]
  },
  {
   "cell_type": "code",
   "execution_count": 76,
   "metadata": {
    "id": "6DLDmRWxje15"
   },
   "outputs": [],
   "source": [
    "# Creating new column 'predicted' with 1 if Churn_Prob>0.5 else 0\n",
    "y_pred_final['predicted'] = y_pred_final.Churn_prob.map( lambda x : 1 if x > 0.5 else 0)"
   ]
  },
  {
   "cell_type": "code",
   "execution_count": 77,
   "metadata": {
    "id": "WDzNW5RMje16",
    "outputId": "28479368-5603-49e2-a1ba-f76693bbe249"
   },
   "outputs": [
    {
     "data": {
      "text/html": [
       "<div>\n",
       "<style scoped>\n",
       "    .dataframe tbody tr th:only-of-type {\n",
       "        vertical-align: middle;\n",
       "    }\n",
       "\n",
       "    .dataframe tbody tr th {\n",
       "        vertical-align: top;\n",
       "    }\n",
       "\n",
       "    .dataframe thead th {\n",
       "        text-align: right;\n",
       "    }\n",
       "</style>\n",
       "<table border=\"1\" class=\"dataframe\">\n",
       "  <thead>\n",
       "    <tr style=\"text-align: right;\">\n",
       "      <th></th>\n",
       "      <th>CustID</th>\n",
       "      <th>Churn</th>\n",
       "      <th>Churn_prob</th>\n",
       "      <th>predicted</th>\n",
       "    </tr>\n",
       "  </thead>\n",
       "  <tbody>\n",
       "    <tr>\n",
       "      <th>0</th>\n",
       "      <td>942</td>\n",
       "      <td>0</td>\n",
       "      <td>0.554340</td>\n",
       "      <td>1</td>\n",
       "    </tr>\n",
       "    <tr>\n",
       "      <th>1</th>\n",
       "      <td>3730</td>\n",
       "      <td>1</td>\n",
       "      <td>0.293748</td>\n",
       "      <td>0</td>\n",
       "    </tr>\n",
       "    <tr>\n",
       "      <th>2</th>\n",
       "      <td>1761</td>\n",
       "      <td>0</td>\n",
       "      <td>0.010005</td>\n",
       "      <td>0</td>\n",
       "    </tr>\n",
       "    <tr>\n",
       "      <th>3</th>\n",
       "      <td>2283</td>\n",
       "      <td>1</td>\n",
       "      <td>0.727452</td>\n",
       "      <td>1</td>\n",
       "    </tr>\n",
       "    <tr>\n",
       "      <th>4</th>\n",
       "      <td>1872</td>\n",
       "      <td>0</td>\n",
       "      <td>0.011327</td>\n",
       "      <td>0</td>\n",
       "    </tr>\n",
       "  </tbody>\n",
       "</table>\n",
       "</div>"
      ],
      "text/plain": [
       "   CustID  Churn  Churn_prob  predicted\n",
       "0     942      0    0.554340          1\n",
       "1    3730      1    0.293748          0\n",
       "2    1761      0    0.010005          0\n",
       "3    2283      1    0.727452          1\n",
       "4    1872      0    0.011327          0"
      ]
     },
     "execution_count": 77,
     "metadata": {},
     "output_type": "execute_result"
    }
   ],
   "source": [
    "# Let's see the head\n",
    "\n",
    "y_pred_final.head()"
   ]
  },
  {
   "cell_type": "code",
   "execution_count": 78,
   "metadata": {
    "id": "gyDZ1QuDje16"
   },
   "outputs": [],
   "source": [
    "# import metrics \n",
    "from sklearn import metrics"
   ]
  },
  {
   "cell_type": "code",
   "execution_count": 80,
   "metadata": {
    "id": "31p5DN3gje17",
    "outputId": "cdb5ba20-1848-4e5b-e1b5-7648c57034e5"
   },
   "outputs": [
    {
     "data": {
      "text/plain": [
       "array([[1370,  158],\n",
       "       [ 306,  276]], dtype=int64)"
      ]
     },
     "execution_count": 80,
     "metadata": {},
     "output_type": "execute_result"
    }
   ],
   "source": [
    "# get Confusion matrix \n",
    "confusion = metrics.confusion_matrix(y_pred_final.Churn, y_pred_final.predicted)\n",
    "\n",
    "#print confusion matrix\n",
    "confusion"
   ]
  },
  {
   "cell_type": "code",
   "execution_count": 81,
   "metadata": {
    "id": "3FBupEYsje17",
    "outputId": "6d8e4d39-d644-42d3-a4f2-c7741f4a035f"
   },
   "outputs": [
    {
     "data": {
      "text/plain": [
       "0.7800947867298578"
      ]
     },
     "execution_count": 81,
     "metadata": {},
     "output_type": "execute_result"
    }
   ],
   "source": [
    "#Let's check the overall accuracy.\n",
    "metrics.accuracy_score(y_pred_final.Churn, y_pred_final.predicted)"
   ]
  },
  {
   "cell_type": "code",
   "execution_count": 82,
   "metadata": {
    "id": "0UogAR-Qje17"
   },
   "outputs": [],
   "source": [
    "# Lets check true positive ,true negatives,false positives and false negatives\n",
    "\n",
    "TP = confusion[1,1] # true positive \n",
    "TN = confusion[0,0]# true negatives\n",
    "FP =  confusion[0,1]# false positives\n",
    "FN = confusion[1,0]# false negatives"
   ]
  },
  {
   "cell_type": "code",
   "execution_count": 83,
   "metadata": {
    "id": "mdcoZZyEje19",
    "outputId": "1b3c56c6-e0a5-45a4-9b47-d02980d8b167"
   },
   "outputs": [
    {
     "data": {
      "text/plain": [
       "0.4742268041237113"
      ]
     },
     "execution_count": 83,
     "metadata": {},
     "output_type": "execute_result"
    }
   ],
   "source": [
    "# Let's see the sensitivity of our logistic regression model\n",
    "TP / float(TP+FN)"
   ]
  },
  {
   "cell_type": "code",
   "execution_count": 84,
   "metadata": {
    "id": "s_lgH3KRje19",
    "outputId": "8d0a394d-0bb8-4e4e-fb83-b86b8894f921"
   },
   "outputs": [
    {
     "data": {
      "text/plain": [
       "0.8965968586387435"
      ]
     },
     "execution_count": 84,
     "metadata": {},
     "output_type": "execute_result"
    }
   ],
   "source": [
    "# Let us calculate specificity\n",
    "TN / float(TN+FP)"
   ]
  },
  {
   "cell_type": "code",
   "execution_count": 85,
   "metadata": {
    "id": "yXIYoht4je1-",
    "outputId": "b5797436-a207-4814-9a8a-5f377acc00e1"
   },
   "outputs": [
    {
     "name": "stdout",
     "output_type": "stream",
     "text": [
      "0.10340314136125654\n"
     ]
    }
   ],
   "source": [
    "# Calculate false postive rate - predicting churn when customer does not have churned\n",
    "print(FP / float(TN+FP))"
   ]
  },
  {
   "cell_type": "code",
   "execution_count": 86,
   "metadata": {
    "id": "6_z6o87kje1-",
    "outputId": "42140680-b3f8-47f7-c16f-ed9ca9564e90"
   },
   "outputs": [
    {
     "name": "stdout",
     "output_type": "stream",
     "text": [
      "0.6359447004608295\n"
     ]
    }
   ],
   "source": [
    "# positive predictive value \n",
    "print(TP / float(TP+FP))"
   ]
  },
  {
   "cell_type": "code",
   "execution_count": 87,
   "metadata": {
    "id": "DNzl1h3kje1_",
    "outputId": "c756ef7f-0644-45d7-ea38-30d9de4cf8e3"
   },
   "outputs": [
    {
     "name": "stdout",
     "output_type": "stream",
     "text": [
      "0.8174224343675418\n"
     ]
    }
   ],
   "source": [
    "# Negative predictive value\n",
    "print(TN/float(TN+FN))"
   ]
  },
  {
   "cell_type": "markdown",
   "metadata": {
    "id": "YT79Oz4oje1_"
   },
   "source": [
    "You can also use classification_report to get precision, recall, f1-score, support"
   ]
  },
  {
   "cell_type": "code",
   "execution_count": 89,
   "metadata": {
    "id": "R4agI1SSje1_",
    "outputId": "79d7f061-349a-4a9a-8a0a-48388322778a"
   },
   "outputs": [
    {
     "name": "stdout",
     "output_type": "stream",
     "text": [
      "              precision    recall  f1-score   support\n",
      "\n",
      "           0       0.82      0.90      0.86      1528\n",
      "           1       0.64      0.47      0.54       582\n",
      "\n",
      "    accuracy                           0.78      2110\n",
      "   macro avg       0.73      0.69      0.70      2110\n",
      "weighted avg       0.77      0.78      0.77      2110\n",
      "\n"
     ]
    }
   ],
   "source": [
    "# import classification report\n",
    "from sklearn.metrics import classification_report\n",
    "# print classification_report\n",
    "print(classification_report(y_pred_final.Churn, y_pred_final.predicted))"
   ]
  },
  {
   "cell_type": "markdown",
   "metadata": {
    "collapsed": true,
    "id": "LRnXoIKtje1_"
   },
   "source": [
    "### ROC Curve\n",
    "\n",
    "<p style='text-align: right;'> 1 points</p>\n"
   ]
  },
  {
   "cell_type": "code",
   "execution_count": 90,
   "metadata": {
    "id": "szh_lor-je2A"
   },
   "outputs": [],
   "source": [
    "# Here we have given you a function to plot ROC curve\n",
    "\n",
    "def draw_roc( actual, probs ):\n",
    "    fpr, tpr, thresholds = metrics.roc_curve( actual, probs,\n",
    "                                              drop_intermediate = False )\n",
    "    auc_score = metrics.roc_auc_score( actual, probs )\n",
    "    plt.figure(figsize=(6, 4))\n",
    "    plt.plot( fpr, tpr, label='ROC curve (area = %0.2f)' % auc_score )\n",
    "    plt.plot([0, 1], [0, 1], 'k--')\n",
    "    plt.xlim([0.0, 1.0])\n",
    "    plt.ylim([0.0, 1.05])\n",
    "    plt.xlabel('False Positive Rate or [1 - True Negative Rate]')\n",
    "    plt.ylabel('True Positive Rate')\n",
    "    plt.title('Receiver operating characteristic example')\n",
    "    plt.legend(loc=\"lower right\")\n",
    "    plt.show()\n",
    "\n",
    "    return fpr, tpr, thresholds"
   ]
  },
  {
   "cell_type": "code",
   "execution_count": 91,
   "metadata": {
    "id": "O5z2cm1uje2A",
    "outputId": "321ce4db-6bb4-4751-f1bd-42c2eb5c2667"
   },
   "outputs": [
    {
     "data": {
      "image/png": "[encoded data removed]",
      "text/plain": [
       "<Figure size 432x288 with 1 Axes>"
      ]
     },
     "metadata": {
      "needs_background": "light"
     },
     "output_type": "display_data"
    },
    {
     "data": {
      "text/plain": [
       "(array([0.        , 0.10340314, 1.        ]),\n",
       " array([0.       , 0.4742268, 1.       ]),\n",
       " array([2, 1, 0], dtype=int64))"
      ]
     },
     "execution_count": 91,
     "metadata": {},
     "output_type": "execute_result"
    }
   ],
   "source": [
    "# Use above function to plot ROC curve\n",
    "\n",
    "draw_roc(y_pred_final.Churn, y_pred_final.predicted)"
   ]
  },
  {
   "cell_type": "markdown",
   "metadata": {
    "id": "A5kMVMSDje2B"
   },
   "source": [
    "### Finding Optimal Cutoff Point'\n",
    "\n",
    "<p style='text-align: right;'> 6 points</p>\n"
   ]
  },
  {
   "cell_type": "markdown",
   "metadata": {
    "id": "o63RDTocje2B"
   },
   "source": [
    "Optimal cutoff probability is that probability where we get balanced sensitivity and specificity"
   ]
  },
  {
   "cell_type": "code",
   "execution_count": 92,
   "metadata": {
    "id": "5or5MdR0je2C",
    "outputId": "cd10594b-e3e5-4791-a4c3-7fb36c266f21"
   },
   "outputs": [
    {
     "data": {
      "text/html": [
       "<div>\n",
       "<style scoped>\n",
       "    .dataframe tbody tr th:only-of-type {\n",
       "        vertical-align: middle;\n",
       "    }\n",
       "\n",
       "    .dataframe tbody tr th {\n",
       "        vertical-align: top;\n",
       "    }\n",
       "\n",
       "    .dataframe thead th {\n",
       "        text-align: right;\n",
       "    }\n",
       "</style>\n",
       "<table border=\"1\" class=\"dataframe\">\n",
       "  <thead>\n",
       "    <tr style=\"text-align: right;\">\n",
       "      <th></th>\n",
       "      <th>CustID</th>\n",
       "      <th>Churn</th>\n",
       "      <th>Churn_prob</th>\n",
       "      <th>predicted</th>\n",
       "      <th>0.0</th>\n",
       "      <th>0.1</th>\n",
       "      <th>0.2</th>\n",
       "      <th>0.3</th>\n",
       "      <th>0.4</th>\n",
       "      <th>0.5</th>\n",
       "      <th>0.6</th>\n",
       "      <th>0.7</th>\n",
       "      <th>0.8</th>\n",
       "      <th>0.9</th>\n",
       "    </tr>\n",
       "  </thead>\n",
       "  <tbody>\n",
       "    <tr>\n",
       "      <th>0</th>\n",
       "      <td>942</td>\n",
       "      <td>0</td>\n",
       "      <td>0.554340</td>\n",
       "      <td>1</td>\n",
       "      <td>1</td>\n",
       "      <td>1</td>\n",
       "      <td>1</td>\n",
       "      <td>1</td>\n",
       "      <td>1</td>\n",
       "      <td>1</td>\n",
       "      <td>0</td>\n",
       "      <td>0</td>\n",
       "      <td>0</td>\n",
       "      <td>0</td>\n",
       "    </tr>\n",
       "    <tr>\n",
       "      <th>1</th>\n",
       "      <td>3730</td>\n",
       "      <td>1</td>\n",
       "      <td>0.293748</td>\n",
       "      <td>0</td>\n",
       "      <td>1</td>\n",
       "      <td>1</td>\n",
       "      <td>1</td>\n",
       "      <td>0</td>\n",
       "      <td>0</td>\n",
       "      <td>0</td>\n",
       "      <td>0</td>\n",
       "      <td>0</td>\n",
       "      <td>0</td>\n",
       "      <td>0</td>\n",
       "    </tr>\n",
       "    <tr>\n",
       "      <th>2</th>\n",
       "      <td>1761</td>\n",
       "      <td>0</td>\n",
       "      <td>0.010005</td>\n",
       "      <td>0</td>\n",
       "      <td>1</td>\n",
       "      <td>0</td>\n",
       "      <td>0</td>\n",
       "      <td>0</td>\n",
       "      <td>0</td>\n",
       "      <td>0</td>\n",
       "      <td>0</td>\n",
       "      <td>0</td>\n",
       "      <td>0</td>\n",
       "      <td>0</td>\n",
       "    </tr>\n",
       "    <tr>\n",
       "      <th>3</th>\n",
       "      <td>2283</td>\n",
       "      <td>1</td>\n",
       "      <td>0.727452</td>\n",
       "      <td>1</td>\n",
       "      <td>1</td>\n",
       "      <td>1</td>\n",
       "      <td>1</td>\n",
       "      <td>1</td>\n",
       "      <td>1</td>\n",
       "      <td>1</td>\n",
       "      <td>1</td>\n",
       "      <td>1</td>\n",
       "      <td>0</td>\n",
       "      <td>0</td>\n",
       "    </tr>\n",
       "    <tr>\n",
       "      <th>4</th>\n",
       "      <td>1872</td>\n",
       "      <td>0</td>\n",
       "      <td>0.011327</td>\n",
       "      <td>0</td>\n",
       "      <td>1</td>\n",
       "      <td>0</td>\n",
       "      <td>0</td>\n",
       "      <td>0</td>\n",
       "      <td>0</td>\n",
       "      <td>0</td>\n",
       "      <td>0</td>\n",
       "      <td>0</td>\n",
       "      <td>0</td>\n",
       "      <td>0</td>\n",
       "    </tr>\n",
       "  </tbody>\n",
       "</table>\n",
       "</div>"
      ],
      "text/plain": [
       "   CustID  Churn  Churn_prob  predicted  0.0  0.1  0.2  0.3  0.4  0.5  0.6  \\\n",
       "0     942      0    0.554340          1    1    1    1    1    1    1    0   \n",
       "1    3730      1    0.293748          0    1    1    1    0    0    0    0   \n",
       "2    1761      0    0.010005          0    1    0    0    0    0    0    0   \n",
       "3    2283      1    0.727452          1    1    1    1    1    1    1    1   \n",
       "4    1872      0    0.011327          0    1    0    0    0    0    0    0   \n",
       "\n",
       "   0.7  0.8  0.9  \n",
       "0    0    0    0  \n",
       "1    0    0    0  \n",
       "2    0    0    0  \n",
       "3    1    0    0  \n",
       "4    0    0    0  "
      ]
     },
     "execution_count": 92,
     "metadata": {},
     "output_type": "execute_result"
    }
   ],
   "source": [
    "# Let's create columns with different probability cutoffs \n",
    "\n",
    "numbers = [float(x)/10 for x in range(10)]\n",
    "\n",
    "# loop numbers and append churn probability to y_pred_final for different prob cutoff \n",
    "for i in numbers:\n",
    "    y_pred_final[i] = y_pred_final.Churn_prob.map(lambda x: 1 if x > i else 0)\n",
    "\n",
    "    \n",
    "# print  y_pred_final head\n",
    "y_pred_final.head()"
   ]
  },
  {
   "cell_type": "markdown",
   "metadata": {
    "id": "5ZeiMB2vje2E"
   },
   "source": [
    "Now let's calculate accuracy sensitivity and specificity for various probability cutoffs.\n"
   ]
  },
  {
   "cell_type": "code",
   "execution_count": 100,
   "metadata": {
    "id": "UWBWA64yje2E",
    "outputId": "61c12ce6-3012-4a76-e13e-2f56e0723fc2"
   },
   "outputs": [
    {
     "name": "stdout",
     "output_type": "stream",
     "text": [
      "     prob  accuracy     sensi     speci\n",
      "0.0   0.0  0.275829  1.000000  0.000000\n",
      "0.1   0.1  0.599526  0.951890  0.465314\n",
      "0.2   0.2  0.686730  0.824742  0.634162\n",
      "0.3   0.3  0.730806  0.735395  0.729058\n",
      "0.4   0.4  0.772986  0.632302  0.826571\n",
      "0.5   0.5  0.780095  0.474227  0.896597\n",
      "0.6   0.6  0.784360  0.384880  0.936518\n",
      "0.7   0.7  0.760190  0.180412  0.981021\n",
      "0.8   0.8  0.724171  0.000000  1.000000\n",
      "0.9   0.9  0.724171  0.000000  1.000000\n"
     ]
    }
   ],
   "source": [
    "# Create an empty dataframe with columns 'prob','accuracy','sensi' and 'speci'\n",
    "cutoff_df = pd.DataFrame(columns=['prob', 'accuracy', 'sensi', 'speci'])\n",
    "\n",
    "num = [0.0,0.1,0.2,0.3,0.4,0.5,0.6,0.7,0.8,0.9]\n",
    "\n",
    "#iterate through num\n",
    "for i in num:\n",
    "    #calculate confusion metrics\n",
    "    cm1 = metrics.confusion_matrix(y_pred_final.Churn, y_pred_final[i])\n",
    "    \n",
    "    #total in cm1\n",
    "    total1 = sum(sum(cm1))\n",
    "    \n",
    "    #Calculate accuracy\n",
    "    accuracy = (cm1[0,0]+cm1[1,1])/total1\n",
    "    \n",
    "    #calculate specificity\n",
    "    speci = cm1[0,0]/(cm1[0,0]+cm1[0,1]) \n",
    "    \n",
    "    #calculate sensitivity\n",
    "    sensi = cm1[1,1]/(cm1[1,0]+cm1[1,1])\n",
    "    \n",
    "    #append rows in cutoff_df with cutoff values, accuracy, sensitivity and specificity\n",
    "    cutoff_df.loc[i] = [i, accuracy, sensi, speci]\n",
    "\n",
    "# print cutoff_df \n",
    "print(cutoff_df)"
   ]
  },
  {
   "cell_type": "code",
   "execution_count": 101,
   "metadata": {
    "id": "_yqsp-R_je2F",
    "outputId": "e4a0e4e0-89d2-4e95-fefe-c5f83a256b87"
   },
   "outputs": [
    {
     "data": {
      "text/plain": [
       "<AxesSubplot:xlabel='prob'>"
      ]
     },
     "execution_count": 101,
     "metadata": {},
     "output_type": "execute_result"
    },
    {
     "data": {
      "image/png": "[encoded data removed]",
      "text/plain": [
       "<Figure size 432x288 with 1 Axes>"
      ]
     },
     "metadata": {
      "needs_background": "light"
     },
     "output_type": "display_data"
    }
   ],
   "source": [
    "# Let's plot accuracy sensitivity and specificity for various probabilities.\n",
    "cutoff_df.plot.line(x='prob', y=['accuracy', 'sensi', 'speci'])"
   ]
  },
  {
   "cell_type": "markdown",
   "metadata": {
    "id": "3mGzICFYje2F"
   },
   "source": [
    "### From the curve above, 0.3 is the optimum point to take it as a cutoff probability.\n",
    "\n",
    "<p style='text-align: right;'> 4 points</p>\n"
   ]
  },
  {
   "cell_type": "code",
   "execution_count": 102,
   "metadata": {
    "id": "Y2hqANu9je2F"
   },
   "outputs": [],
   "source": [
    "# Now lets get another column with final_predicted which has 0.3 cutoff probability\n",
    "\n",
    "y_pred_final['final_predicted'] = y_pred_final.Churn_prob.map(lambda x: 1 if x > 0.3 else 0)"
   ]
  },
  {
   "cell_type": "code",
   "execution_count": 104,
   "metadata": {
    "id": "HEU8z5Czje2F",
    "outputId": "a7393263-1495-41a4-bf64-ab5b1b15df9f"
   },
   "outputs": [
    {
     "data": {
      "text/html": [
       "<div>\n",
       "<style scoped>\n",
       "    .dataframe tbody tr th:only-of-type {\n",
       "        vertical-align: middle;\n",
       "    }\n",
       "\n",
       "    .dataframe tbody tr th {\n",
       "        vertical-align: top;\n",
       "    }\n",
       "\n",
       "    .dataframe thead th {\n",
       "        text-align: right;\n",
       "    }\n",
       "</style>\n",
       "<table border=\"1\" class=\"dataframe\">\n",
       "  <thead>\n",
       "    <tr style=\"text-align: right;\">\n",
       "      <th></th>\n",
       "      <th>CustID</th>\n",
       "      <th>Churn</th>\n",
       "      <th>Churn_prob</th>\n",
       "      <th>predicted</th>\n",
       "      <th>0.0</th>\n",
       "      <th>0.1</th>\n",
       "      <th>0.2</th>\n",
       "      <th>0.3</th>\n",
       "      <th>0.4</th>\n",
       "      <th>0.5</th>\n",
       "      <th>0.6</th>\n",
       "      <th>0.7</th>\n",
       "      <th>0.8</th>\n",
       "      <th>0.9</th>\n",
       "      <th>final_predicted</th>\n",
       "    </tr>\n",
       "  </thead>\n",
       "  <tbody>\n",
       "    <tr>\n",
       "      <th>0</th>\n",
       "      <td>942</td>\n",
       "      <td>0</td>\n",
       "      <td>0.554340</td>\n",
       "      <td>1</td>\n",
       "      <td>1</td>\n",
       "      <td>1</td>\n",
       "      <td>1</td>\n",
       "      <td>1</td>\n",
       "      <td>1</td>\n",
       "      <td>1</td>\n",
       "      <td>0</td>\n",
       "      <td>0</td>\n",
       "      <td>0</td>\n",
       "      <td>0</td>\n",
       "      <td>1</td>\n",
       "    </tr>\n",
       "    <tr>\n",
       "      <th>1</th>\n",
       "      <td>3730</td>\n",
       "      <td>1</td>\n",
       "      <td>0.293748</td>\n",
       "      <td>0</td>\n",
       "      <td>1</td>\n",
       "      <td>1</td>\n",
       "      <td>1</td>\n",
       "      <td>0</td>\n",
       "      <td>0</td>\n",
       "      <td>0</td>\n",
       "      <td>0</td>\n",
       "      <td>0</td>\n",
       "      <td>0</td>\n",
       "      <td>0</td>\n",
       "      <td>0</td>\n",
       "    </tr>\n",
       "    <tr>\n",
       "      <th>2</th>\n",
       "      <td>1761</td>\n",
       "      <td>0</td>\n",
       "      <td>0.010005</td>\n",
       "      <td>0</td>\n",
       "      <td>1</td>\n",
       "      <td>0</td>\n",
       "      <td>0</td>\n",
       "      <td>0</td>\n",
       "      <td>0</td>\n",
       "      <td>0</td>\n",
       "      <td>0</td>\n",
       "      <td>0</td>\n",
       "      <td>0</td>\n",
       "      <td>0</td>\n",
       "      <td>0</td>\n",
       "    </tr>\n",
       "    <tr>\n",
       "      <th>3</th>\n",
       "      <td>2283</td>\n",
       "      <td>1</td>\n",
       "      <td>0.727452</td>\n",
       "      <td>1</td>\n",
       "      <td>1</td>\n",
       "      <td>1</td>\n",
       "      <td>1</td>\n",
       "      <td>1</td>\n",
       "      <td>1</td>\n",
       "      <td>1</td>\n",
       "      <td>1</td>\n",
       "      <td>1</td>\n",
       "      <td>0</td>\n",
       "      <td>0</td>\n",
       "      <td>1</td>\n",
       "    </tr>\n",
       "    <tr>\n",
       "      <th>4</th>\n",
       "      <td>1872</td>\n",
       "      <td>0</td>\n",
       "      <td>0.011327</td>\n",
       "      <td>0</td>\n",
       "      <td>1</td>\n",
       "      <td>0</td>\n",
       "      <td>0</td>\n",
       "      <td>0</td>\n",
       "      <td>0</td>\n",
       "      <td>0</td>\n",
       "      <td>0</td>\n",
       "      <td>0</td>\n",
       "      <td>0</td>\n",
       "      <td>0</td>\n",
       "      <td>0</td>\n",
       "    </tr>\n",
       "  </tbody>\n",
       "</table>\n",
       "</div>"
      ],
      "text/plain": [
       "   CustID  Churn  Churn_prob  predicted  0.0  0.1  0.2  0.3  0.4  0.5  0.6  \\\n",
       "0     942      0    0.554340          1    1    1    1    1    1    1    0   \n",
       "1    3730      1    0.293748          0    1    1    1    0    0    0    0   \n",
       "2    1761      0    0.010005          0    1    0    0    0    0    0    0   \n",
       "3    2283      1    0.727452          1    1    1    1    1    1    1    1   \n",
       "4    1872      0    0.011327          0    1    0    0    0    0    0    0   \n",
       "\n",
       "   0.7  0.8  0.9  final_predicted  \n",
       "0    0    0    0                1  \n",
       "1    0    0    0                0  \n",
       "2    0    0    0                0  \n",
       "3    1    0    0                1  \n",
       "4    0    0    0                0  "
      ]
     },
     "execution_count": 104,
     "metadata": {},
     "output_type": "execute_result"
    }
   ],
   "source": [
    "# print y_pred_final head\n",
    "y_pred_final.head()"
   ]
  },
  {
   "cell_type": "code",
   "execution_count": 105,
   "metadata": {
    "id": "UaHdEBN2je2G",
    "outputId": "bcdfd22c-6a53-4840-98fa-cea22593602e"
   },
   "outputs": [
    {
     "data": {
      "text/plain": [
       "0.7308056872037915"
      ]
     },
     "execution_count": 105,
     "metadata": {},
     "output_type": "execute_result"
    }
   ],
   "source": [
    "#Let's check the overall accuracy now again\n",
    "metrics.accuracy_score(y_pred_final.Churn, y_pred_final.final_predicted) "
   ]
  },
  {
   "cell_type": "code",
   "execution_count": 106,
   "metadata": {
    "id": "k9XjkRlqje2G",
    "outputId": "37921a84-dde3-420d-d09d-97892c9efacc"
   },
   "outputs": [
    {
     "data": {
      "text/plain": [
       "array([[1114,  414],\n",
       "       [ 154,  428]], dtype=int64)"
      ]
     },
     "execution_count": 106,
     "metadata": {},
     "output_type": "execute_result"
    }
   ],
   "source": [
    "#Let's check the overall accuracy now again\n",
    "metrics.confusion_matrix(y_pred_final.Churn, y_pred_final.final_predicted)"
   ]
  },
  {
   "cell_type": "markdown",
   "metadata": {
    "id": "NN_bxsMXje2G"
   },
   "source": [
    "Though this approach of finding best cutoff probability is perfectly fine, but as you can see our error got increased when cutoff is 0.3. \n",
    "\n",
    "\n",
    "The reason may be the features which we used to predict. We need go back and check them again. Else we can even try out different classification problems. \n",
    "\n",
    "\n",
    "Lets try using all the features available before doing RFE. i.e consider all features in X\n",
    "\n",
    "\n"
   ]
  },
  {
   "cell_type": "code",
   "execution_count": 107,
   "metadata": {
    "id": "E9HvxbrEje2G"
   },
   "outputs": [],
   "source": [
    "# Splitting the data into train and test with train_size=0.7 and random_state=100 again\n",
    "\n",
    "X_train, X_test, y_train, y_test = train_test_split(X, y,test_size=0.3, random_state=100)\n"
   ]
  },
  {
   "cell_type": "code",
   "execution_count": 108,
   "metadata": {
    "id": "pwlQ4vzIje2G"
   },
   "outputs": [],
   "source": [
    "#initialise Logistic Regression\n",
    "logs2 = LogisticRegression()\n",
    "\n",
    "#fitting model using above columns as input\n",
    "logs2.fit(X, y)\n",
    "#prediction on test data\n",
    "y_pred= logs2.predict(X_test)"
   ]
  },
  {
   "cell_type": "code",
   "execution_count": 113,
   "metadata": {
    "id": "zjChhiLbje2H",
    "outputId": "58d40758-71b6-44d4-9dcf-9a82e6ae1f56"
   },
   "outputs": [
    {
     "name": "stdout",
     "output_type": "stream",
     "text": [
      "              precision    recall  f1-score   support\n",
      "\n",
      "           0       0.83      0.89      0.86      1528\n",
      "           1       0.65      0.52      0.57       582\n",
      "\n",
      "    accuracy                           0.79      2110\n",
      "   macro avg       0.74      0.70      0.72      2110\n",
      "weighted avg       0.78      0.79      0.78      2110\n",
      "\n"
     ]
    }
   ],
   "source": [
    "# print classification_report\n",
    "\n",
    "print(metrics.classification_report(y_test, y_pred))"
   ]
  },
  {
   "cell_type": "code",
   "execution_count": 115,
   "metadata": {
    "id": "JKuPizUije2H",
    "outputId": "6804b282-fc1b-4369-dcb9-45986b80a6c0"
   },
   "outputs": [
    {
     "data": {
      "text/plain": [
       "array([[1364,  164],\n",
       "       [ 281,  301]], dtype=int64)"
      ]
     },
     "execution_count": 115,
     "metadata": {},
     "output_type": "execute_result"
    }
   ],
   "source": [
    "#print confusion metrix\n",
    "metrics.confusion_matrix(y_test, y_pred)"
   ]
  },
  {
   "cell_type": "markdown",
   "metadata": {
    "id": "ogeCAatKje2H"
   },
   "source": [
    "So from above result we can see that our results are improved slightly after using all the features in X"
   ]
  }
 ],
 "metadata": {
  "colab": {
   "name": "Logistic Regression.ipynb",
   "provenance": []
  },
  "kernelspec": {
   "display_name": "Python 3 (ipykernel)",
   "language": "python",
   "name": "python3"
  },
  "language_info": {
   "codemirror_mode": {
    "name": "ipython",
    "version": 3
   },
   "file_extension": ".py",
   "mimetype": "text/x-python",
   "name": "python",
   "nbconvert_exporter": "python",
   "pygments_lexer": "ipython3",
   "version": "3.9.7"
  }
 },
 "nbformat": 4,
 "nbformat_minor": 1
}
